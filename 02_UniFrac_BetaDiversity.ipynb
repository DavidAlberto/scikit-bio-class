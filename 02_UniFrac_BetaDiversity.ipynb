{
 "cells": [
  {
   "cell_type": "markdown",
   "metadata": {
    "id": "CfHQ59cwPHhl"
   },
   "source": [
    "# **BiotrAIn 2025 Tutorial: Beta Diversity Analysis**\n",
    "\n",
    "## Section 02: Comparing microbial community structures by Unifrac - Beta diversity\n",
    "\n",
    "🕒 Time: 14:00 - 15:00 EDT | 📅 June 17, 2025\n",
    "\n",
    "Welcome to the practical session 02.\n",
    "Created by professor Qiyun Zhu and adapted by Nelly Selem (Secodment host), Jeanett Daga (Secodment).\n",
    "\n",
    "--- \n",
    "\n",
    "🏆 **QUESTIONS**\n",
    "\n",
    "* How do we quantify and interpret cross-environment microbial community differences?\n",
    "* Why use phylogeny-aware metrics (UniFrac) over non-phylogenetic measures?\n",
    "* What statistical and visualization tools best reveal community patterns?\n",
    "\n",
    "🎯 **AIMS**\n",
    "\n",
    "* **Process data**: Filter, rarefy, and compute UniFrac distances\n",
    "* **Analyze patterns**: PCoA visualization + PERMANOVA testing\n",
    "* **Compare communities**: Phylogenetic tree manipulation, Mantel, and Procrustes tests\n",
    "\n",
    "🔑 **KEY POINTS** \n",
    "\n",
    "1. **UniFrac**\n",
    "   - **Type**: Phylogenetic beta-diversity metric\n",
    "   - **Measures**: \n",
    "     - ✓ Taxonomic abundance profiles  \n",
    "     - ✓ Evolutionary relationships (shared branch lengths in phylogenetic tree)\n",
    "   - **Advantage**: More informative than non-phylogenetic metrics (e.g., Bray-Curtis) as it incorporates evolutionary history\n",
    "\n",
    "2. **Rarefaction**\n",
    "   - **Purpose**: Normalizes sequencing depth across samples to:\n",
    "     - ✓ Control for uneven sampling effort  \n",
    "     - ✓ Enable fair cross-sample comparisons\n",
    "   - **Trade-off**: Reduces noise but discards valid data (balance needed)\n",
    "\n",
    "3. **Principal Coordinates Analysis (PCoA)**\n",
    "   - **Function**: Dimensionality reduction for distance matrices (e.g., UniFrac)\n",
    "   - **Interpretation**:\n",
    "     - Close points = similar microbial communities  \n",
    "     - Distant points = dissimilar communities\n",
    "   - **Output**: 2D/3D plots showing major axes of variation\n",
    "\n",
    "4. **PERMANOVA**\n",
    "   - **Purpose**: Tests whether community composition differs significantly between pre-defined groups\n",
    "   - **Key outputs**:\n",
    "     - *F*-statistic (effect size)  \n",
    "     - *p*-value (statistical significance)\n",
    "\n",
    "5. **Phylogenetic Tree Subsetting**\n",
    "   - **Application**: Focuses analysis on specific clades by:\n",
    "     - ✓ Extracting subtrees (e.g., single phylum)  \n",
    "     - ✓ Enabling targeted evolutionary comparisons\n",
    "\n",
    "6. **Comparative Analyses**\n",
    "\n",
    "| **Test**       | **Compares**                      | **Application Example**                    |\n",
    "|----------------|-----------------------------------|--------------------------------------------|\n",
    "| **Mantel**     | Two distance matrices             | UniFrac vs. environmental parameters       |\n",
    "| **Procrustes** | Two ordinations (e.g., PCoA)      | Comparing different beta-diversity metrics |\n",
    "\n",
    "---\n",
    "\n",
    "📥 **Input**: \n",
    "\n",
    "Latino America Shotgun data from EMP500 project:\n",
    "\n",
    "* `latam_ogu.biom`: Feature table (OGU abundances)\n",
    "* `latam_ogu.tax`: Taxonomic classifications\n",
    "* `latam_ogu.nwk`: Reference phylogeny (Newick format)\n",
    "* `latam_samples.tsv`: Sample metadata\n",
    "\n",
    "📤 **Output**:\n",
    "\n",
    "- Rarefied BIOM table\n",
    "- Weighted/unweighted UniFrac matrices\n",
    "- PCoA ordination plots + coordinates\n",
    "- PERMANOVA results (*F*-statistics, *p*-values)\n",
    "- Phylum-specific distance comparisons\n",
    "- Mantel (r/p) and Procrustes (M²/p) results\n",
    "\n",
    "--- \n",
    "\n",
    "## Phylogenetic Beta Diversity Analysis\n",
    "\n",
    "In this session, we will analyze beta diversity patterns in the EMP500 shotgun metagenomics dataset using **phylogenetically-informed methods**:\n",
    "\n",
    "### UniFrac Analysis\n",
    "\n",
    "- **Metric**: We will employ UniFrac, a gold-standard phylogenetic beta diversity measure that:\n",
    "  - Quantifies community dissimilarity based on shared evolutionary history\n",
    "  - Computes the fraction of unique branch lengths in a phylogenetic tree between sample pairs\n",
    "- **Variants**: Both weighted (abundance-sensitive) and unweighted (presence/absence) versions will be explored\n",
    "\n",
    "### Multivariate Analysis Pipeline\n",
    "\n",
    "1. **Visualization**  \n",
    "   Principal Coordinates Analysis (PCoA) will transform UniFrac distance matrices into intuitive 2D/3D plots, revealing:\n",
    "   - Major axes of community variation\n",
    "   - Potential sample clustering patterns\n",
    "\n",
    "2. **Statistical Testing**  \n",
    "   PERMANOVA (Permutational Multivariate ANOVA) will assess whether:\n",
    "   - Observed community differences between sample groups are statistically significant\n",
    "   - Effect sizes of experimental factors\n",
    "\n",
    "### Advanced Comparisons\n",
    "\n",
    "To demonstrate scikit-bio's capabilities, we will:\n",
    "- **Mantel Test**: Evaluate matrix correlations between phylum-specific distance matrices  \n",
    "- **Procrustes Analysis**: Quantify concordance between ordinations of different microbial groups  \n",
    "\n"
   ]
  },
  {
   "cell_type": "markdown",
   "metadata": {
    "id": "jr2Sk6eyPHho"
   },
   "source": [
    "## Preparation\n",
    "\n",
    "Install the latest scikit-bio version and another required packages in your Google Colab environment. "
   ]
  },
  {
   "cell_type": "code",
   "execution_count": 2,
   "metadata": {
    "executionInfo": {
     "elapsed": 110,
     "status": "ok",
     "timestamp": 1747857166574,
     "user": {
      "displayName": "Jeanett Daga",
      "userId": "07863803926035571979"
     },
     "user_tz": 180
    },
    "id": "37MzSPYqPHhq"
   },
   "outputs": [],
   "source": [
    "# Import find_spec from importlib.util\n",
    "from importlib.util import find_spec"
   ]
  },
  {
   "cell_type": "code",
   "execution_count": 3,
   "metadata": {
    "colab": {
     "base_uri": "https://localhost:8080/"
    },
    "executionInfo": {
     "elapsed": 134505,
     "status": "ok",
     "timestamp": 1747857302151,
     "user": {
      "displayName": "Jeanett Daga",
      "userId": "07863803926035571979"
     },
     "user_tz": 180
    },
    "id": "ofwaW-T1W6AS",
    "outputId": "a16d87a8-f462-47cb-c2b2-df74c2b178fe"
   },
   "outputs": [],
   "source": [
    "# Install scikit-bio if not already installed\n",
    "if find_spec('skbio') is None:\n",
    "    !pip install -q scikit-bio"
   ]
  },
  {
   "cell_type": "code",
   "execution_count": 4,
   "metadata": {
    "colab": {
     "base_uri": "https://localhost:8080/",
     "height": 36
    },
    "executionInfo": {
     "elapsed": 1416,
     "status": "ok",
     "timestamp": 1747857310498,
     "user": {
      "displayName": "Jeanett Daga",
      "userId": "07863803926035571979"
     },
     "user_tz": 180
    },
    "id": "bz2YadyNPHhs",
    "outputId": "d2637d33-3134-4f35-c87d-83d48f48f81d"
   },
   "outputs": [
    {
     "name": "stdout",
     "output_type": "stream",
     "text": [
      "scikit-bio version: 0.6.3\n"
     ]
    }
   ],
   "source": [
    "# Import the skbio library and check the version. \n",
    "import skbio\n",
    "print(f\"scikit-bio version: {skbio.__version__}\")"
   ]
  },
  {
   "cell_type": "code",
   "execution_count": 5,
   "metadata": {
    "executionInfo": {
     "elapsed": 22,
     "status": "ok",
     "timestamp": 1747857312089,
     "user": {
      "displayName": "Jeanett Daga",
      "userId": "07863803926035571979"
     },
     "user_tz": 180
    },
    "id": "C-NorEnVlaIX"
   },
   "outputs": [],
   "source": [
    "# Import pyplot of matplotlib \n",
    "import matplotlib.pyplot as plt"
   ]
  },
  {
   "cell_type": "code",
   "execution_count": 6,
   "metadata": {
    "executionInfo": {
     "elapsed": 44,
     "status": "ok",
     "timestamp": 1747857313378,
     "user": {
      "displayName": "Jeanett Daga",
      "userId": "07863803926035571979"
     },
     "user_tz": 180
    },
    "id": "qBd7rHIjPHhy"
   },
   "outputs": [],
   "source": [
    "# Import warnings to ignore warnings\n",
    "import warnings\n",
    "warnings.filterwarnings('ignore')"
   ]
  },
  {
   "cell_type": "code",
   "execution_count": 7,
   "metadata": {
    "executionInfo": {
     "elapsed": 24,
     "status": "ok",
     "timestamp": 1747857314928,
     "user": {
      "displayName": "Jeanett Daga",
      "userId": "07863803926035571979"
     },
     "user_tz": 180
    },
    "id": "VIbnBjC2IfS3"
   },
   "outputs": [],
   "source": [
    "# Base URL of GitHub repository containing the data\n",
    "github_data_path = \"https://raw.githubusercontent.com/nselem/biotraintemp/refs/heads/main/data/\""
   ]
  },
  {
   "cell_type": "code",
   "execution_count": 8,
   "metadata": {
    "executionInfo": {
     "elapsed": 10,
     "status": "ok",
     "timestamp": 1747857316064,
     "user": {
      "displayName": "Jeanett Daga",
      "userId": "07863803926035571979"
     },
     "user_tz": 180
    },
    "id": "-SJ-ROdrIhb0"
   },
   "outputs": [],
   "source": [
    "# Assign the GitHub data path to HOME variable\n",
    "HOME = github_data_path"
   ]
  },
  {
   "cell_type": "markdown",
   "metadata": {
    "id": "q8FzkyEtFxMW"
   },
   "source": [
    "**Data Loading and Phylogenetic Analysis Setup**\n",
    "\n",
    "Before conducting any downstream analyses, we must first load our essential datasets into memory. This foundational step enables all subsequent exploration of microbial community patterns.\n",
    "\n",
    "1. **Phylogeny Initialization**\n",
    " \n",
    "   We begin by parsing the phylogenetic tree into a `TreeNode` object using scikit-bio's implementation. This powerful class provides:\n",
    "    \n",
    "   * Tree traversal (pre-order, post-order, level-order)\n",
    "   * Topological operations (subtree extraction, node comparison)\n",
    "   * Data aggregation (clade-specific tip collection)\n",
    "   * Evolutionary metrics (branch length calculations)\n",
    "\n",
    "2. **Practical Applications**\n",
    "   \n",
    "   Later in this notebook, we'll demonstrate two key workflows:\n",
    "\n",
    "   * Phylogeny-aware aggregation: Propagating tip data upward through the tree hierarchy\n",
    "   * Targeted clade analysis: Isolating specific taxonomic groups (e.g., Proteobacteria) for focused investigation"
   ]
  },
  {
   "cell_type": "code",
   "execution_count": 9,
   "metadata": {
    "executionInfo": {
     "elapsed": 17,
     "status": "ok",
     "timestamp": 1747857319271,
     "user": {
      "displayName": "Jeanett Daga",
      "userId": "07863803926035571979"
     },
     "user_tz": 180
    },
    "id": "refE-OIhF8FM"
   },
   "outputs": [],
   "source": [
    "# Import TreeNode from skbio\n",
    "from skbio import TreeNode"
   ]
  },
  {
   "cell_type": "code",
   "execution_count": 10,
   "metadata": {
    "colab": {
     "base_uri": "https://localhost:8080/"
    },
    "executionInfo": {
     "elapsed": 922,
     "status": "ok",
     "timestamp": 1747857322599,
     "user": {
      "displayName": "Jeanett Daga",
      "userId": "07863803926035571979"
     },
     "user_tz": 180
    },
    "id": "kH0EnSXTILEw",
    "outputId": "d5b6d17b-d1c8-4c83-b69e-4323ef17df6e"
   },
   "outputs": [
    {
     "data": {
      "text/plain": [
       "<TreeNode, name: N1, internal node count: 14326, tips count: 14933>"
      ]
     },
     "execution_count": 10,
     "metadata": {},
     "output_type": "execute_result"
    }
   ],
   "source": [
    "# Read the phylogenetic tree from a Newick file\n",
    "phylogeny = TreeNode.read(f'{HOME}/shotgun/latam_ogu.nwk', format= 'newick')\n",
    "phylogeny"
   ]
  },
  {
   "cell_type": "markdown",
   "metadata": {
    "id": "6xUp9GaZd--G"
   },
   "source": [
    "**Loading Feature Tables with Sparse Optimization**\n",
    "\n",
    "We will now load the feature table into a `Table` object, which employs efficient sparse matrix storage to handle microbial abundance data. This representation is critical given the extreme sparsity typical in microbiome datasets—for example, the American Gut Project exhibits <0.1% non-zero values in its feature tables.\n",
    "\n",
    "**Key Features of the Table Object**\n",
    "\n",
    "* **Sparse storage**: Only non-zero values occupy memory (ideal for 99.9% sparse data)\n",
    "* **Analytical methods**:\n",
    "  * *Filtering* (prevalence/abundance thresholds)\n",
    "  * *Transformation* (log-normalization, CSS scaling)\n",
    "  * *Aggregation* (taxonomic collapsing)\n",
    "  * *Rarefaction* (subsampling to even depth)\n",
    "  * *Partitioning* (group-specific analyses)\n",
    "\n",
    "**Upcoming Applications**\n",
    "\n",
    "This object will enable:\n",
    "\n",
    "* Sparse-aware computations for efficient beta diversity calculations\n",
    "* Conditional filtering to remove low-abundance features\n",
    "* Rarefaction curves to assess sequencing depth adequacy"
   ]
  },
  {
   "cell_type": "code",
   "execution_count": 11,
   "metadata": {
    "executionInfo": {
     "elapsed": 41,
     "status": "ok",
     "timestamp": 1747857327046,
     "user": {
      "displayName": "Jeanett Daga",
      "userId": "07863803926035571979"
     },
     "user_tz": 180
    },
    "id": "DRwKwRkAPHhz"
   },
   "outputs": [],
   "source": [
    "# Import Table from skbio\n",
    "from skbio import Table"
   ]
  },
  {
   "cell_type": "code",
   "execution_count": 12,
   "metadata": {
    "colab": {
     "base_uri": "https://localhost:8080/"
    },
    "executionInfo": {
     "elapsed": 376,
     "status": "ok",
     "timestamp": 1747857328613,
     "user": {
      "displayName": "Jeanett Daga",
      "userId": "07863803926035571979"
     },
     "user_tz": 180
    },
    "id": "7W7EClZLI6he",
    "outputId": "2c70d738-8523-4757-b042-0f292286fbc9"
   },
   "outputs": [
    {
     "data": {
      "text/plain": [
       "14933 x 68 <class 'biom.table.Table'> with 90562 nonzero entries (8% dense)"
      ]
     },
     "execution_count": 12,
     "metadata": {},
     "output_type": "execute_result"
    }
   ],
   "source": [
    "# Crate a Table object from a latam_ogu BIOM file\n",
    "latam_shotgun = Table.read(f'{HOME}/latam/shotgun/latam_ogu.biom')\n",
    "latam_shotgun"
   ]
  },
  {
   "cell_type": "markdown",
   "metadata": {
    "id": "88Isrua6GlwU"
   },
   "source": [
    "**Loading and Preparing Sample Metadata**\n",
    "\n",
    "We now load the sample metadata file, building on our earlier exploration of this dataset. For this analysis, we will specifically utilize the `empo_1` classification - a fundamental environmental categorization that distinguishes between:\n",
    "\n",
    "* Host-associated samples (e.g., human gut, animal skin)\n",
    "* Free-living samples (e.g., soil, water)\n",
    "\n",
    "**Key Processing Steps**:\n",
    "\n",
    "* **Column Extraction**: Isolate the empo_1 category during initial loading for immediate access\n",
    "* **Validation**: Verify consistent labeling across all samples\n",
    "* **Group Balancing**: Check sample size distribution between categories"
   ]
  },
  {
   "cell_type": "code",
   "execution_count": 13,
   "metadata": {
    "executionInfo": {
     "elapsed": 8,
     "status": "ok",
     "timestamp": 1747857344806,
     "user": {
      "displayName": "Jeanett Daga",
      "userId": "07863803926035571979"
     },
     "user_tz": 180
    },
    "id": "sTh62RDmdTPu"
   },
   "outputs": [
    {
     "name": "stdout",
     "output_type": "stream",
     "text": [
      "pandas version: 2.2.3\n"
     ]
    }
   ],
   "source": [
    "# Import the pandas library and check the version. \n",
    "import pandas as pd\n",
    "print(f\"pandas version: {pd.__version__}\")"
   ]
  },
  {
   "cell_type": "code",
   "execution_count": 14,
   "metadata": {
    "executionInfo": {
     "elapsed": 14,
     "status": "ok",
     "timestamp": 1747857348063,
     "user": {
      "displayName": "Jeanett Daga",
      "userId": "07863803926035571979"
     },
     "user_tz": 180
    },
    "id": "cp_wDOGkGzgk"
   },
   "outputs": [],
   "source": [
    "# Import SampleMetadata from skbio\n",
    "from skbio import SampleMetadata"
   ]
  },
  {
   "cell_type": "code",
   "execution_count": 15,
   "metadata": {
    "colab": {
     "base_uri": "https://localhost:8080/"
    },
    "executionInfo": {
     "elapsed": 189,
     "status": "ok",
     "timestamp": 1747857383022,
     "user": {
      "displayName": "Jeanett Daga",
      "userId": "07863803926035571979"
     },
     "user_tz": 180
    },
    "id": "Qyb6ga_aeCM8",
    "outputId": "adee0885-cae8-4a69-9054-f88d89178b3a"
   },
   "outputs": [
    {
     "data": {
      "text/plain": [
       "SampleMetadata\n",
       "--------------\n",
       "92 IDs x 33 columns\n",
       "sample_name_original:          ColumnProperties(type='categorical', missing_scheme='blank')\n",
       "sample_type:                   ColumnProperties(type='categorical', missing_scheme='blank')\n",
       "collection_timestamp:          ColumnProperties(type='categorical', missing_scheme='blank')\n",
       "country:                       ColumnProperties(type='categorical', missing_scheme='blank')\n",
       "depth_sample:                  ColumnProperties(type='numeric', missing_scheme='blank')\n",
       "description:                   ColumnProperties(type='categorical', missing_scheme='blank')\n",
       "elevation:                     ColumnProperties(type='numeric', missing_scheme='blank')\n",
       "emp500_principal_investigator: ColumnProperties(type='categorical', missing_scheme='blank')\n",
       "emp500_study_id:               ColumnProperties(type='numeric', missing_scheme='blank')\n",
       "emp500_pi_study_id:            ColumnProperties(type='categorical', missing_scheme='blank')\n",
       "emp500_title:                  ColumnProperties(type='categorical', missing_scheme='blank')\n",
       "empo_0:                        ColumnProperties(type='categorical', missing_scheme='blank')\n",
       "empo_1:                        ColumnProperties(type='categorical', missing_scheme='blank')\n",
       "empo_2:                        ColumnProperties(type='categorical', missing_scheme='blank')\n",
       "empo_3:                        ColumnProperties(type='categorical', missing_scheme='blank')\n",
       "empo_salinity:                 ColumnProperties(type='categorical', missing_scheme='blank')\n",
       "empo_v2_2:                     ColumnProperties(type='categorical', missing_scheme='blank')\n",
       "empo_v2_3a:                    ColumnProperties(type='categorical', missing_scheme='blank')\n",
       "empo_v2_3b:                    ColumnProperties(type='categorical', missing_scheme='blank')\n",
       "empo_v2_4a:                    ColumnProperties(type='categorical', missing_scheme='blank')\n",
       "empo_v2_4b:                    ColumnProperties(type='categorical', missing_scheme='blank')\n",
       "empo_4:                        ColumnProperties(type='categorical', missing_scheme='blank')\n",
       "env_biome:                     ColumnProperties(type='categorical', missing_scheme='blank')\n",
       "env_feature:                   ColumnProperties(type='categorical', missing_scheme='blank')\n",
       "env_material:                  ColumnProperties(type='categorical', missing_scheme='blank')\n",
       "env_package:                   ColumnProperties(type='categorical', missing_scheme='blank')\n",
       "geo_loc_name:                  ColumnProperties(type='categorical', missing_scheme='blank')\n",
       "host_subject_id:               ColumnProperties(type='categorical', missing_scheme='blank')\n",
       "host_scientific_name:          ColumnProperties(type='categorical', missing_scheme='blank')\n",
       "latitude:                      ColumnProperties(type='numeric', missing_scheme='blank')\n",
       "longitude:                     ColumnProperties(type='numeric', missing_scheme='blank')\n",
       "project_name:                  ColumnProperties(type='categorical', missing_scheme='blank')\n",
       "scientific_name:               ColumnProperties(type='categorical', missing_scheme='blank')\n",
       "\n",
       "Call to_dataframe() for a tabular representation."
      ]
     },
     "execution_count": 15,
     "metadata": {},
     "output_type": "execute_result"
    }
   ],
   "source": [
    "# Create a SampleMetadata object from a latam_samples.tsv file\n",
    "latam_metadata = SampleMetadata.read(f'{HOME}/latam/latam_samples.tsv')\n",
    "latam_metadata"
   ]
  },
  {
   "cell_type": "code",
   "execution_count": 16,
   "metadata": {
    "colab": {
     "base_uri": "https://localhost:8080/",
     "height": 489
    },
    "executionInfo": {
     "elapsed": 12,
     "status": "ok",
     "timestamp": 1747857394416,
     "user": {
      "displayName": "Jeanett Daga",
      "userId": "07863803926035571979"
     },
     "user_tz": 180
    },
    "id": "Q9RAuDrDeRMi",
    "outputId": "00aff9b3-6629-4c0a-f8e2-c5c6ca368a53"
   },
   "outputs": [
    {
     "data": {
      "application/vnd.microsoft.datawrangler.viewer.v0+json": {
       "columns": [
        {
         "name": "sample_name",
         "rawType": "object",
         "type": "string"
        },
        {
         "name": "empo_1",
         "rawType": "object",
         "type": "string"
        }
       ],
       "ref": "83be7dd2-7165-426c-9425-73ff885b927d",
       "rows": [
        [
         "13114.jensen.43.s012",
         "Free-living"
        ],
        [
         "13114.jensen.43.s013",
         "Free-living"
        ],
        [
         "13114.jensen.43.s014",
         "Free-living"
        ],
        [
         "13114.pinto.62.s001",
         "Free-living"
        ],
        [
         "13114.pinto.62.s002",
         "Free-living"
        ],
        [
         "13114.pinto.62.s003",
         "Free-living"
        ],
        [
         "13114.pinto.62.s004",
         "Free-living"
        ],
        [
         "13114.pinto.62.s005",
         "Free-living"
        ],
        [
         "13114.pinto.62.s006",
         "Free-living"
        ],
        [
         "13114.pinto.62.s007",
         "Free-living"
        ],
        [
         "13114.pinto.62.s008",
         "Free-living"
        ],
        [
         "13114.pinto.62.s009",
         "Free-living"
        ],
        [
         "13114.pinto.62.s010",
         "Free-living"
        ],
        [
         "13114.pinto.62.s011",
         "Free-living"
        ],
        [
         "13114.pinto.62.s012",
         "Free-living"
        ],
        [
         "13114.pinto.62.s013",
         "Free-living"
        ],
        [
         "13114.pinto.62.s014",
         "Free-living"
        ],
        [
         "13114.pinto.62.s015",
         "Free-living"
        ],
        [
         "13114.pinto.62.s016",
         "Free-living"
        ],
        [
         "13114.pinto.62.s017",
         "Free-living"
        ],
        [
         "13114.pinto.62.s018",
         "Free-living"
        ],
        [
         "13114.pinto.62.s019",
         "Free-living"
        ],
        [
         "13114.pinto.62.s020",
         "Free-living"
        ],
        [
         "13114.pinto.62.s021",
         "Free-living"
        ],
        [
         "13114.pinto.62.s022",
         "Free-living"
        ],
        [
         "13114.pinto.62.s023",
         "Free-living"
        ],
        [
         "13114.pinto.62.s024",
         "Free-living"
        ],
        [
         "13114.pinto.63.s001",
         "Host-associated"
        ],
        [
         "13114.pinto.63.s002",
         "Host-associated"
        ],
        [
         "13114.pinto.63.s003",
         "Host-associated"
        ],
        [
         "13114.pinto.63.s004",
         "Host-associated"
        ],
        [
         "13114.pinto.63.s005",
         "Host-associated"
        ],
        [
         "13114.pinto.63.s006",
         "Host-associated"
        ],
        [
         "13114.pinto.63.s007",
         "Host-associated"
        ],
        [
         "13114.pinto.63.s008",
         "Host-associated"
        ],
        [
         "13114.pinto.63.s009",
         "Host-associated"
        ],
        [
         "13114.pinto.63.s010",
         "Host-associated"
        ],
        [
         "13114.pinto.63.s011",
         "Host-associated"
        ],
        [
         "13114.pinto.63.s012",
         "Host-associated"
        ],
        [
         "13114.pinto.63.s013",
         "Host-associated"
        ],
        [
         "13114.pinto.63.s014",
         "Host-associated"
        ],
        [
         "13114.pinto.63.s015",
         "Host-associated"
        ],
        [
         "13114.pinto.63.s016",
         "Host-associated"
        ],
        [
         "13114.pinto.63.s017",
         "Host-associated"
        ],
        [
         "13114.pinto.63.s018",
         "Host-associated"
        ],
        [
         "13114.pinto.63.s019",
         "Host-associated"
        ],
        [
         "13114.pinto.63.s020",
         "Host-associated"
        ],
        [
         "13114.pinto.63.s021",
         "Host-associated"
        ],
        [
         "13114.pinto.63.s022",
         "Host-associated"
        ],
        [
         "13114.pinto.63.s023",
         "Host-associated"
        ]
       ],
       "shape": {
        "columns": 1,
        "rows": 92
       }
      },
      "text/plain": [
       "sample_name\n",
       "13114.jensen.43.s012         Free-living\n",
       "13114.jensen.43.s013         Free-living\n",
       "13114.jensen.43.s014         Free-living\n",
       "13114.pinto.62.s001          Free-living\n",
       "13114.pinto.62.s002          Free-living\n",
       "                              ...       \n",
       "13114.zaneveld.9.s006    Host-associated\n",
       "13114.zaneveld.9.s010    Host-associated\n",
       "13114.zaneveld.9.s011    Host-associated\n",
       "13114.zaneveld.9.s012    Host-associated\n",
       "13114.zaneveld.9.s022        Free-living\n",
       "Name: empo_1, Length: 92, dtype: object"
      ]
     },
     "execution_count": 16,
     "metadata": {},
     "output_type": "execute_result"
    }
   ],
   "source": [
    "# Obtain the empo_1 column from the SampleMetadata object and convert it to a pandas Series\n",
    "empo_1 = latam_metadata.get_column('empo_1').to_series()\n",
    "empo_1"
   ]
  },
  {
   "cell_type": "markdown",
   "metadata": {
    "id": "fafNKEu9PHh0"
   },
   "source": [
    "## Rarefaction for Phylogenetic Diversity Analysis\n",
    "\n",
    "**Why Rarefy?**\n",
    "\n",
    "UniFrac distances are sensitive to uneven sequencing depth across samples. Rarefaction (subsampling to an even sequencing depth) controls for this technical variability, enabling fair cross-sample comparisons.\n",
    "\n",
    "**Implementation**"
   ]
  },
  {
   "cell_type": "code",
   "execution_count": 17,
   "metadata": {},
   "outputs": [
    {
     "data": {
      "text/plain": [
       "1443 x 64 <class 'biom.table.Table'> with 2804 nonzero entries (3% dense)"
      ]
     },
     "execution_count": 17,
     "metadata": {},
     "output_type": "execute_result"
    }
   ],
   "source": [
    "# Rarefy to 100 sequences per sample\n",
    "depth = 100\n",
    "even_table = latam_shotgun.subsample(depth)\n",
    "even_table"
   ]
  },
  {
   "cell_type": "markdown",
   "metadata": {},
   "source": [
    "**Depth choice (100 sequences)**: Deliberately conservative for tutorial purposes, yet sufficient to reveal:\n",
    "\n",
    "  * Strong biological effects (e.g., host vs. environment differentiation)\n",
    "  * Major community patterns (despite shallow sequencing)\n",
    "\n",
    "**Key Considerations**\n",
    "\n",
    "1. **Alternatives to Rarefaction**:\n",
    "   \n",
    "   * Metrics like [RPCA](https://journals.asm.org/doi/10.1128/msystems.00016-19) and [Phylo-PRCA](https://journals.asm.org/doi/10.1128/msystems.00050-22) are less depth-sensitive\n",
    "   * But still require minimum sequence thresholds (recommended: filter samples with <1,000 reads)\n",
    "\n",
    "2. **Best Practices**:\n",
    "\n",
    "   * For publication: Use higher depths (≥1,000 sequences) or repeated rarefaction\n",
    "   * Always report rarefaction depth in methods\n",
    "\n",
    "**Expected Output**\n",
    "\n",
    "   * Balanced feature table (all samples with exactly 100 sequences)\n",
    "   * Preserved phylogenetic signal for host-environment contrasts\n",
    "\n",
    "**Phylogeny Optimization for Efficient Computation**\n",
    "\n",
    "Following rarefaction, we will prune the phylogenetic tree to remove:\n",
    "\n",
    "   * **Vertices (nodes)**: Tips and internal branches corresponding to features absent in the rarefied table\n",
    "   * **Edges (branches)**: Unused evolutionary paths\n",
    "\n",
    "**Why This Matters**:\n",
    "\n",
    "1. Computational Efficiency:\n",
    "   * Reduces UniFrac calculation time by ~40-60% for typical datasets\n",
    "   * Lowers memory usage by eliminating unused tree segments\n",
    "2. Scientific Validity:\n",
    "   * Maintains exact phylogenetic distances for observed features\n",
    "   * Avoids \"phantom branch length\" artifacts from unobserved taxa\n",
    "\n",
    "**About UniFrac Implementations**\n",
    "\n",
    "* **Current Tutorial**: Uses scikit-bio's reference implementation of [Fast UniFrac](https://www.nature.com/articles/ismej200997):\n",
    "* Future Developments:\n",
    "  * Upcoming scikit-bio releases will integrate [improved algorithms](https://journals.asm.org/doi/10.1128/msystems.00028-22) featuring:\n",
    "    * GPU acceleration\n",
    "    * Sparse matrix optimizations\n",
    "    * Parallelized tree traversals\n",
    "\n",
    "**Implementation**:"
   ]
  },
  {
   "cell_type": "markdown",
   "metadata": {
    "id": "TDHkjO40glUw"
   },
   "source": [
    "While not strictly necessary, we will remove unnecessary vertices and edges from the phylogeny relative to the rarefied table. Doing so reduces the compute for UniFrac later on.\n",
    "\n",
    "**NOTE**: scikit-bio is the reference implementation for [Fast UniFrac](https://www.nature.com/articles/ismej200997). However, subsequent large [algorithmic improvements](https://journals.asm.org/doi/10.1128/msystems.00028-22) have been developed. This advanced variant will be included directly in scikit-bio in the future."
   ]
  },
  {
   "cell_type": "code",
   "execution_count": 18,
   "metadata": {
    "executionInfo": {
     "elapsed": 311,
     "status": "ok",
     "timestamp": 1747857404285,
     "user": {
      "displayName": "Jeanett Daga",
      "userId": "07863803926035571979"
     },
     "user_tz": 180
    },
    "id": "0ZbA2Hljgjf5"
   },
   "outputs": [],
   "source": [
    "# Extract the sample IDs from the even_table and convert them to a pandas Series\n",
    "even_phylogeny = phylogeny.shear(set(even_table.ids(axis='observation')))"
   ]
  },
  {
   "cell_type": "markdown",
   "metadata": {
    "id": "DIgLCMt8PHh0"
   },
   "source": [
    "## Calculating UniFrac Distances\n",
    "\n",
    "We will now compute UniFrac distances between samples. For those new to this metric:\n",
    "\n",
    "**What is UniFrac?**\n",
    "\n",
    "UniFrac is a phylogenetic [beta diversity metric](https://www.nature.com/articles/ismej2010133) that:\n",
    "\n",
    "   * Quantifies dissimilarity between microbial communities\n",
    "   * Incorporates evolutionary relationships by measuring:\n",
    "     * **Unique branch lengths**: Fraction of the phylogenetic tree unique to each sample\n",
    "     * **Shared ancestry**: Evolutionary overlap between taxa\n",
    "\n",
    "**Key Properties**\n",
    "\n",
    "* Range: 0 (identical communities) to 1 (completely distinct)\n",
    "* Phylogeny-aware: More informative than non-phylogenetic metrics\n",
    "\n",
    "**Example scenarios**:\n",
    "\n",
    "| Sample A | Sample B | UniFrac Distance | Explanation |\n",
    "|----------|----------|------------------|-------------|\n",
    "|Archae-only| Bacteria-only | ~ 1.0 | No shared branches (completely distinct) |\n",
    "|*Provotella* + *Bacteroides* | *Lactobacillus* + *Faecalibacterium* | ~ 0.3 - 0.6 | Partial branch sharing (same phylum) |\n",
    "\n",
    "The original UniFrac algorithm is described [here](https://journals.asm.org/doi/10.1128/aem.71.12.8228-8235.2005).\n",
    "\n",
    "**Implementation**:"
   ]
  },
  {
   "cell_type": "code",
   "execution_count": 19,
   "metadata": {
    "executionInfo": {
     "elapsed": 17,
     "status": "ok",
     "timestamp": 1747857417073,
     "user": {
      "displayName": "Jeanett Daga",
      "userId": "07863803926035571979"
     },
     "user_tz": 180
    },
    "id": "XaU0pYJrPHh1"
   },
   "outputs": [],
   "source": [
    "# Import beta_diversity from skbio.diversity\n",
    "from skbio.diversity import beta_diversity\n",
    "\n",
    "# Calculate the beta diversity using the Unweighted UniFrac metric\n",
    "full_dm = beta_diversity(\n",
    "    metric='unweighted_unifrac',      # Metric to use for beta diversity\n",
    "    counts=even_table,                # Input data for beta diversity calculation\n",
    "    tree=even_phylogeny               # Phylogenetic tree for the samples\n",
    "    )"
   ]
  },
  {
   "cell_type": "markdown",
   "metadata": {
    "id": "MngkUca9gGKt"
   },
   "source": [
    "The resulting `DistanceMatrix` object provides specialized methods for extracting and comparing distance subsets. We'll now examine two key comparisons:\n",
    "\n",
    "* **Within-group distances**:\n",
    "  * Measures the phylogenetic similarity among samples from the same category (e.g., all host-associated samples).\n",
    "* **Between-group distances**:\n",
    "  * Quantifies differences across categories (e.g., host-associated vs. environmental samples).\n",
    "\n",
    "This contrast will reveal whether microbial communities cluster by our grouping factor of interest."
   ]
  },
  {
   "cell_type": "code",
   "execution_count": 20,
   "metadata": {
    "colab": {
     "base_uri": "https://localhost:8080/",
     "height": 445
    },
    "executionInfo": {
     "elapsed": 1493,
     "status": "ok",
     "timestamp": 1747834813997,
     "user": {
      "displayName": "Jeanett Daga",
      "userId": "07863803926035571979"
     },
     "user_tz": 180
    },
    "id": "IbIT1FwshiVK",
    "outputId": "ce3cd1fc-c760-4801-fd35-1a8238ecda20"
   },
   "outputs": [
    {
     "data": {
      "image/png": "[encoded data removed]",
      "text/plain": [
       "<Figure size 1000x500 with 1 Axes>"
      ]
     },
     "metadata": {},
     "output_type": "display_data"
    }
   ],
   "source": [
    "# Create a figure with specified dimensions (width=10, height=5 inches)\n",
    "plt.figure(figsize=(10, 5))\n",
    "\n",
    "# Align the empo_1 metadata with the distance matrix sample IDs\n",
    "# This ensures samples are in the same order in both objects\n",
    "empo_1 = empo_1.loc[list(full_dm.ids)]\n",
    "\n",
    "# Initialize an empty list to store legend labels\n",
    "labels = []\n",
    "\n",
    "# Loop through each unique environment type in empo_1\n",
    "for env in empo_1.unique():\n",
    "    # Get the set of sample IDs for the current environment type\n",
    "    env_ids = set(empo_1[empo_1 == env].index)\n",
    "    \n",
    "    # Extract all pairwise distances between samples within this environment group\n",
    "    within_data = full_dm.within(env_ids)\n",
    "    \n",
    "    # Plot a histogram of these within-group distances\n",
    "    # alpha=0.65 makes the bars semi-transparent\n",
    "    # bins=100 creates 100 bars for detailed distribution\n",
    "    plt.hist(\n",
    "        x=within_data['value'],\n",
    "        alpha=0.65,\n",
    "        bins=100\n",
    "        )\n",
    "    \n",
    "    # Add the environment name to our legend labels\n",
    "    labels.append(env)\n",
    "\n",
    "# Get the two unique environment types for between-group comparison\n",
    "from_label, to_label = empo_1.unique()\n",
    "\n",
    "# Get sample IDs for each environment group\n",
    "from_ = empo_1[empo_1 == from_label].index\n",
    "to_ = empo_1[empo_1 == to_label].index\n",
    "\n",
    "# Calculate all pairwise distances between samples from different environments\n",
    "between_data = full_dm.between(from_, to_)\n",
    "\n",
    "# Plot a histogram of these between-group distances\n",
    "# Uses same visual style as within-group plots\n",
    "plt.hist(\n",
    "    x=between_data['value'],\n",
    "    alpha=0.65,\n",
    "    bins=100)\n",
    "\n",
    "# Add a label for the between-group comparison\n",
    "labels.append(f'{from_label} vs. {to_label}')\n",
    "\n",
    "# Add a legend to the plot using our collected labels\n",
    "plt.legend(labels);"
   ]
  },
  {
   "cell_type": "markdown",
   "metadata": {
    "id": "uRp9oKh-nm7u"
   },
   "source": [
    "## Principal Coordinates Analysis (PCoA) and PERMANOVA\n",
    "\n",
    "We will now perform [**Principal Coordinates Analysis (PCoA)**](https://en.wikipedia.org/wiki/Multidimensional_scaling#Classical_multidimensional_scaling) to visualize the high-dimensional **beta diversity relationships** in our dataset. PCoA is a powerful ordination technique that:\n",
    "\n",
    "* Transforms a distance matrix (e.g., UniFrac) into a lower-dimensional space\n",
    "* Preserves the original pairwise distances as faithfully as possible\n",
    "* Reveals the major gradients of variation in microbial community composition\n",
    "\n",
    "**Implementation Details**\n",
    "\n",
    "The scikit-bio implementation offers:\n",
    "\n",
    "* **Classical PCoA** [Legendre & Legendre](https://shop.elsevier.com/books/numerical-ecology/legendre/978-0-444-89249-2)\n",
    "  * Exact solution via eigen decomposition\n",
    "  * Suitable for moderate-sized datasets\n",
    "* **Approximate PCoA**\n",
    "  * Computes only the first *n* dimensions (user-specified)\n",
    "  * Scales to very large datasets via randomized algorithms\n",
    "\n",
    "**Working with Ordination Results**\n",
    "\n",
    "The `OrdinationResults` object provides:\n",
    "\n",
    "* A `DataFrame` of sample coordinates (accessible via `.samples`)\n",
    "* Metadata including:\n",
    "  * Proportion of variance explained per axis\n",
    "  * Eigenvalues for each principal coordinate"
   ]
  },
  {
   "cell_type": "code",
   "execution_count": 21,
   "metadata": {
    "executionInfo": {
     "elapsed": 6,
     "status": "ok",
     "timestamp": 1747834817137,
     "user": {
      "displayName": "Jeanett Daga",
      "userId": "07863803926035571979"
     },
     "user_tz": 180
    },
    "id": "L98WIi83nmfb"
   },
   "outputs": [],
   "source": [
    "# Import pcoa from skbio.stats.ordination\n",
    "from skbio.stats.ordination import pcoa"
   ]
  },
  {
   "cell_type": "code",
   "execution_count": 22,
   "metadata": {
    "executionInfo": {
     "elapsed": 22,
     "status": "ok",
     "timestamp": 1747834818704,
     "user": {
      "displayName": "Jeanett Daga",
      "userId": "07863803926035571979"
     },
     "user_tz": 180
    },
    "id": "zkPd_ATcgnHa"
   },
   "outputs": [
    {
     "data": {
      "application/vnd.microsoft.datawrangler.viewer.v0+json": {
       "columns": [
        {
         "name": "index",
         "rawType": "object",
         "type": "string"
        },
        {
         "name": "0",
         "rawType": "float64",
         "type": "float"
        }
       ],
       "ref": "6b0a214d-3869-4bd2-9908-7727a0e1f008",
       "rows": [
        [
         "PC1",
         "0.1465369248592694"
        ],
        [
         "PC2",
         "0.07924543767591744"
        ],
        [
         "PC3",
         "0.05349537433619659"
        ],
        [
         "PC4",
         "0.04746898776259948"
        ],
        [
         "PC5",
         "0.03462845864243187"
        ],
        [
         "PC6",
         "0.030650782076401494"
        ],
        [
         "PC7",
         "0.029371963418232186"
        ],
        [
         "PC8",
         "0.02767482600364678"
        ],
        [
         "PC9",
         "0.023898251296993137"
        ],
        [
         "PC10",
         "0.022414827664795158"
        ]
       ],
       "shape": {
        "columns": 1,
        "rows": 10
       }
      },
      "text/plain": [
       "PC1     0.146537\n",
       "PC2     0.079245\n",
       "PC3     0.053495\n",
       "PC4     0.047469\n",
       "PC5     0.034628\n",
       "PC6     0.030651\n",
       "PC7     0.029372\n",
       "PC8     0.027675\n",
       "PC9     0.023898\n",
       "PC10    0.022415\n",
       "dtype: float64"
      ]
     },
     "execution_count": 22,
     "metadata": {},
     "output_type": "execute_result"
    }
   ],
   "source": [
    "# Make PCoA object using the full distance matrix\n",
    "pc = pcoa(\n",
    "    distance_matrix=full_dm,\n",
    "    number_of_dimensions=10\n",
    "    )\n",
    "\n",
    "# Visualize the PCoA results\n",
    "pc.proportion_explained"
   ]
  },
  {
   "cell_type": "code",
   "execution_count": 23,
   "metadata": {
    "colab": {
     "base_uri": "https://localhost:8080/",
     "height": 206
    },
    "executionInfo": {
     "elapsed": 43,
     "status": "ok",
     "timestamp": 1747834825924,
     "user": {
      "displayName": "Jeanett Daga",
      "userId": "07863803926035571979"
     },
     "user_tz": 180
    },
    "id": "ppEw8vqf_f4J",
    "outputId": "bc0ba6a4-b62f-4c00-d9ac-3f7e13ef2f57"
   },
   "outputs": [
    {
     "data": {
      "application/vnd.microsoft.datawrangler.viewer.v0+json": {
       "columns": [
        {
         "name": "index",
         "rawType": "object",
         "type": "string"
        },
        {
         "name": "PC1",
         "rawType": "float64",
         "type": "float"
        },
        {
         "name": "PC2",
         "rawType": "float64",
         "type": "float"
        },
        {
         "name": "PC3",
         "rawType": "float64",
         "type": "float"
        },
        {
         "name": "PC4",
         "rawType": "float64",
         "type": "float"
        },
        {
         "name": "PC5",
         "rawType": "float64",
         "type": "float"
        },
        {
         "name": "PC6",
         "rawType": "float64",
         "type": "float"
        },
        {
         "name": "PC7",
         "rawType": "float64",
         "type": "float"
        },
        {
         "name": "PC8",
         "rawType": "float64",
         "type": "float"
        },
        {
         "name": "PC9",
         "rawType": "float64",
         "type": "float"
        },
        {
         "name": "PC10",
         "rawType": "float64",
         "type": "float"
        }
       ],
       "ref": "ca3ed2e8-56e6-407d-ad67-8b97d5341f66",
       "rows": [
        [
         "13114.jensen.43.s012",
         "0.12951606227610654",
         "0.08232991345948228",
         "0.14332830937321123",
         "0.1507080200555257",
         "0.07956802737915127",
         "0.11088726444950124",
         "0.08668929205830243",
         "0.17514272380007384",
         "0.059071758697418354",
         "-0.09221297382132831"
        ],
        [
         "13114.jensen.43.s013",
         "0.16210382277108185",
         "0.04201292923404755",
         "0.12795733542523058",
         "0.13235698995674208",
         "0.026822760787157594",
         "0.12125751646112376",
         "0.049034290263284694",
         "0.1446492775490921",
         "-0.2052041683275744",
         "-0.013723263100348684"
        ],
        [
         "13114.jensen.43.s014",
         "0.005285371435958125",
         "-0.025864040289888993",
         "0.10052016762099472",
         "0.2882326942966763",
         "-0.1303859525931361",
         "-0.1213755756583839",
         "-0.0005086955959574735",
         "0.038468226438643796",
         "0.0300586447483014",
         "0.07977209833541198"
        ],
        [
         "13114.pinto.63.s001",
         "-0.35273768825095925",
         "0.12189139484423538",
         "-0.003713820288234364",
         "0.05369662617754254",
         "-0.018619221905366565",
         "-0.07930472742479835",
         "0.02609266259322583",
         "0.0006093360947528621",
         "-0.036271032767963764",
         "0.0012245176891242532"
        ],
        [
         "13114.pinto.63.s002",
         "-0.3259985535398268",
         "0.08069336982195077",
         "-0.041479208272344976",
         "-0.011421247193992318",
         "-0.039834913608344416",
         "-0.0799647661628023",
         "0.04200230518788835",
         "0.007123984792795509",
         "-0.02280552041013529",
         "0.017088714271437353"
        ]
       ],
       "shape": {
        "columns": 10,
        "rows": 5
       }
      },
      "text/html": [
       "<div>\n",
       "<style scoped>\n",
       "    .dataframe tbody tr th:only-of-type {\n",
       "        vertical-align: middle;\n",
       "    }\n",
       "\n",
       "    .dataframe tbody tr th {\n",
       "        vertical-align: top;\n",
       "    }\n",
       "\n",
       "    .dataframe thead th {\n",
       "        text-align: right;\n",
       "    }\n",
       "</style>\n",
       "<table border=\"1\" class=\"dataframe\">\n",
       "  <thead>\n",
       "    <tr style=\"text-align: right;\">\n",
       "      <th></th>\n",
       "      <th>PC1</th>\n",
       "      <th>PC2</th>\n",
       "      <th>PC3</th>\n",
       "      <th>PC4</th>\n",
       "      <th>PC5</th>\n",
       "      <th>PC6</th>\n",
       "      <th>PC7</th>\n",
       "      <th>PC8</th>\n",
       "      <th>PC9</th>\n",
       "      <th>PC10</th>\n",
       "    </tr>\n",
       "  </thead>\n",
       "  <tbody>\n",
       "    <tr>\n",
       "      <th>13114.jensen.43.s012</th>\n",
       "      <td>0.129516</td>\n",
       "      <td>0.082330</td>\n",
       "      <td>0.143328</td>\n",
       "      <td>0.150708</td>\n",
       "      <td>0.079568</td>\n",
       "      <td>0.110887</td>\n",
       "      <td>0.086689</td>\n",
       "      <td>0.175143</td>\n",
       "      <td>0.059072</td>\n",
       "      <td>-0.092213</td>\n",
       "    </tr>\n",
       "    <tr>\n",
       "      <th>13114.jensen.43.s013</th>\n",
       "      <td>0.162104</td>\n",
       "      <td>0.042013</td>\n",
       "      <td>0.127957</td>\n",
       "      <td>0.132357</td>\n",
       "      <td>0.026823</td>\n",
       "      <td>0.121258</td>\n",
       "      <td>0.049034</td>\n",
       "      <td>0.144649</td>\n",
       "      <td>-0.205204</td>\n",
       "      <td>-0.013723</td>\n",
       "    </tr>\n",
       "    <tr>\n",
       "      <th>13114.jensen.43.s014</th>\n",
       "      <td>0.005285</td>\n",
       "      <td>-0.025864</td>\n",
       "      <td>0.100520</td>\n",
       "      <td>0.288233</td>\n",
       "      <td>-0.130386</td>\n",
       "      <td>-0.121376</td>\n",
       "      <td>-0.000509</td>\n",
       "      <td>0.038468</td>\n",
       "      <td>0.030059</td>\n",
       "      <td>0.079772</td>\n",
       "    </tr>\n",
       "    <tr>\n",
       "      <th>13114.pinto.63.s001</th>\n",
       "      <td>-0.352738</td>\n",
       "      <td>0.121891</td>\n",
       "      <td>-0.003714</td>\n",
       "      <td>0.053697</td>\n",
       "      <td>-0.018619</td>\n",
       "      <td>-0.079305</td>\n",
       "      <td>0.026093</td>\n",
       "      <td>0.000609</td>\n",
       "      <td>-0.036271</td>\n",
       "      <td>0.001225</td>\n",
       "    </tr>\n",
       "    <tr>\n",
       "      <th>13114.pinto.63.s002</th>\n",
       "      <td>-0.325999</td>\n",
       "      <td>0.080693</td>\n",
       "      <td>-0.041479</td>\n",
       "      <td>-0.011421</td>\n",
       "      <td>-0.039835</td>\n",
       "      <td>-0.079965</td>\n",
       "      <td>0.042002</td>\n",
       "      <td>0.007124</td>\n",
       "      <td>-0.022806</td>\n",
       "      <td>0.017089</td>\n",
       "    </tr>\n",
       "  </tbody>\n",
       "</table>\n",
       "</div>"
      ],
      "text/plain": [
       "                           PC1       PC2       PC3       PC4       PC5  \\\n",
       "13114.jensen.43.s012  0.129516  0.082330  0.143328  0.150708  0.079568   \n",
       "13114.jensen.43.s013  0.162104  0.042013  0.127957  0.132357  0.026823   \n",
       "13114.jensen.43.s014  0.005285 -0.025864  0.100520  0.288233 -0.130386   \n",
       "13114.pinto.63.s001  -0.352738  0.121891 -0.003714  0.053697 -0.018619   \n",
       "13114.pinto.63.s002  -0.325999  0.080693 -0.041479 -0.011421 -0.039835   \n",
       "\n",
       "                           PC6       PC7       PC8       PC9      PC10  \n",
       "13114.jensen.43.s012  0.110887  0.086689  0.175143  0.059072 -0.092213  \n",
       "13114.jensen.43.s013  0.121258  0.049034  0.144649 -0.205204 -0.013723  \n",
       "13114.jensen.43.s014 -0.121376 -0.000509  0.038468  0.030059  0.079772  \n",
       "13114.pinto.63.s001  -0.079305  0.026093  0.000609 -0.036271  0.001225  \n",
       "13114.pinto.63.s002  -0.079965  0.042002  0.007124 -0.022806  0.017089  "
      ]
     },
     "execution_count": 23,
     "metadata": {},
     "output_type": "execute_result"
    }
   ],
   "source": [
    "# Visualize the head of the PCoA object\n",
    "pc.samples.head()"
   ]
  },
  {
   "cell_type": "markdown",
   "metadata": {},
   "source": [
    "Using the coordinates, we can make a single scatter plot of the samples ..."
   ]
  },
  {
   "cell_type": "code",
   "execution_count": 24,
   "metadata": {
    "colab": {
     "base_uri": "https://localhost:8080/",
     "height": 430
    },
    "executionInfo": {
     "elapsed": 161,
     "status": "ok",
     "timestamp": 1747834829126,
     "user": {
      "displayName": "Jeanett Daga",
      "userId": "07863803926035571979"
     },
     "user_tz": 180
    },
    "id": "ZZfsS-XUoYKZ",
    "outputId": "e30e698a-e66d-4099-b14c-893f255d679b"
   },
   "outputs": [
    {
     "data": {
      "image/png": "[encoded data removed]",
      "text/plain": [
       "<Figure size 640x480 with 1 Axes>"
      ]
     },
     "metadata": {},
     "output_type": "display_data"
    }
   ],
   "source": [
    "# Create scatter plot of the first two PCoA axes\n",
    "plt.scatter(\n",
    "    x=pc.samples['PC1'],\n",
    "    y=pc.samples['PC2'],\n",
    "    s=5);"
   ]
  },
  {
   "cell_type": "markdown",
   "metadata": {
    "id": "HDGw4ACpotGL"
   },
   "source": [
    "...but that's not that interesting. Let's add some color. We're going to do this a couple of times so let's write a small function.\n",
    "\n",
    "**NOTE**: We also recommend [EMPeror](https://academic.oup.com/gigascience/article/2/1/2047-217X-2-16/2656132) for large scale visualization. It is compatible with the `OrdinationResults` object, supports interactive operation and various brushing options."
   ]
  },
  {
   "cell_type": "code",
   "execution_count": 25,
   "metadata": {
    "executionInfo": {
     "elapsed": 8,
     "status": "ok",
     "timestamp": 1747834831427,
     "user": {
      "displayName": "Jeanett Daga",
      "userId": "07863803926035571979"
     },
     "user_tz": 180
    },
    "id": "ZXfhN8aIpKXl"
   },
   "outputs": [],
   "source": [
    "# Defines a function to create PCoA (Principal Coordinates Analysis) plots\n",
    "def pcoa_plot(ord_result, sample_metadata, category, title=None):\n",
    "    # Initialize a square figure (7x7 inches) for the plot\n",
    "    plt.figure(figsize=(7, 7))\n",
    "    \n",
    "    # Dynamic point sizing: smaller points (s=5) for large datasets (>300 samples),\n",
    "    # larger points (s=10) for smaller datasets\n",
    "    if len(ord_result.samples) > 300:\n",
    "        s = 5  # Small point size\n",
    "    else:\n",
    "        s = 10  # Default point size\n",
    "    \n",
    "    # List to store legend labels\n",
    "    labels = []\n",
    "    \n",
    "    # Get sample IDs present in the ordination results\n",
    "    ord_ids = set(ord_result.samples.index)\n",
    "    \n",
    "    # Extract the metadata column of interest as a pandas Series\n",
    "    category_series = sample_metadata.get_column(category).to_series()\n",
    "    \n",
    "    # Iterate through each unique category value (e.g., environment types)\n",
    "    for env in category_series.unique():\n",
    "        # Add current category to legend labels\n",
    "        labels.append(env)\n",
    "        \n",
    "        # Get sample IDs belonging to current category that exist in ordination results\n",
    "        env_ids = sample_metadata.get_ids(where=f\"[{category}] = '{env}'\")\n",
    "        env_ids = list(env_ids & ord_ids)  # Intersection with available samples\n",
    "        \n",
    "        # Create scatter plot for current group\n",
    "        plt.scatter(\n",
    "            ord_result.samples.loc[env_ids, 'PC1'],  # X-axis: PC1 coordinates\n",
    "            ord_result.samples.loc[env_ids, 'PC2'],  # Y-axis: PC2 coordinates\n",
    "            s=s,              # Use dynamic point size\n",
    "            alpha=0.75        # 75% opacity for better overlapping point visibility\n",
    "        )\n",
    "        \n",
    "        # Configure plot axes\n",
    "        ax = plt.gca()  # Get current axis\n",
    "        # X-axis label with variance explained percentage\n",
    "        ax.set_xlabel(f'PC1 ({100 * (ord_result.proportion_explained[0]):.2f}%)')\n",
    "        # Y-axis label with variance explained percentage\n",
    "        ax.set_ylabel(f'PC2 ({100 * (ord_result.proportion_explained[1]):.2f}%)')\n",
    "        \n",
    "        # Add legend with group labels\n",
    "        plt.legend(labels)\n",
    "        \n",
    "        # Add optional title if provided\n",
    "        if title is not None:\n",
    "            plt.title(title)"
   ]
  },
  {
   "cell_type": "code",
   "execution_count": 26,
   "metadata": {
    "colab": {
     "base_uri": "https://localhost:8080/",
     "height": 619
    },
    "executionInfo": {
     "elapsed": 252,
     "status": "ok",
     "timestamp": 1747763116723,
     "user": {
      "displayName": "Jeanett Daga",
      "userId": "07863803926035571979"
     },
     "user_tz": 180
    },
    "id": "80jZtJzIzJO5",
    "outputId": "506431d3-f227-4ac7-edd3-989d6a1b0f13"
   },
   "outputs": [
    {
     "data": {
      "image/png": "[encoded data removed]",
      "text/plain": [
       "<Figure size 700x700 with 1 Axes>"
      ]
     },
     "metadata": {},
     "output_type": "display_data"
    }
   ],
   "source": [
    "# Create pcoa plot using the defined function, using empo_1 as the category\n",
    "pcoa_plot(\n",
    "    ord_result=pc,\n",
    "    sample_metadata=latam_metadata, \n",
    "    category='empo_1'\n",
    "    )"
   ]
  },
  {
   "cell_type": "code",
   "execution_count": 27,
   "metadata": {
    "colab": {
     "base_uri": "https://localhost:8080/",
     "height": 619
    },
    "executionInfo": {
     "elapsed": 471,
     "status": "ok",
     "timestamp": 1747834835968,
     "user": {
      "displayName": "Jeanett Daga",
      "userId": "07863803926035571979"
     },
     "user_tz": 180
    },
    "id": "2X0beKRlzW0Q",
    "outputId": "b600a8b8-d02a-4eee-aa87-9a2bc0b5eb92"
   },
   "outputs": [
    {
     "data": {
      "image/png": "[encoded data removed]",
      "text/plain": [
       "<Figure size 700x700 with 1 Axes>"
      ]
     },
     "metadata": {},
     "output_type": "display_data"
    }
   ],
   "source": [
    "# Create pcoa plot using the defined function, using empo_2 as the category\n",
    "pcoa_plot(\n",
    "    ord_result=pc,\n",
    "    sample_metadata=latam_metadata, \n",
    "    category='empo_2'\n",
    "    )"
   ]
  },
  {
   "cell_type": "markdown",
   "metadata": {
    "id": "93PVPNobqsen"
   },
   "source": [
    "**Statistical Validation with PERMANOVA**\n",
    "\n",
    "To quantitatively assess the observed group differences, we will apply [PERMANOVA](https://onlinelibrary.wiley.com/doi/10.1111/j.1442-9993.2001.01070.pp.x)(Permutational Multivariate Analysis of Variance) to our distance matrix. This non-parametric method:\n",
    "\n",
    "* Tests the null hypothesis that group centroids are equivalent in multivariate space\n",
    "* Accounts for within-group variation when evaluating between-group differences\n",
    "* Is particularly suited for ecological distance matrices like UniFrac\n",
    "\n",
    "**Key Implementation Details**\n",
    "\n",
    "1. **Permutation Approach**:\n",
    "   * By default, performs 999 random permutations of group labels\n",
    "   * Generates an empirical null distribution for p-value calculation\n",
    "2. **Output Interpretation**:\n",
    "   * **F-statistic**: Effect size (higher values indicate stronger group separation)\n",
    "   * **p-value**: Statistical significance (typically evaluated at α=0.05)\n",
    "3. **Biological Relevance**:\n",
    "   * Identifies whether environmental/host factors significantly structure communities\n",
    "   * Complements PCoA visualization with statistical rigor"
   ]
  },
  {
   "cell_type": "code",
   "execution_count": 28,
   "metadata": {
    "executionInfo": {
     "elapsed": 2,
     "status": "ok",
     "timestamp": 1747834837587,
     "user": {
      "displayName": "Jeanett Daga",
      "userId": "07863803926035571979"
     },
     "user_tz": 180
    },
    "id": "Rp1KpwrTpJIt"
   },
   "outputs": [],
   "source": [
    "# Import permanova from skbio.stats.distance\n",
    "from skbio.stats.distance import permanova"
   ]
  },
  {
   "cell_type": "code",
   "execution_count": 29,
   "metadata": {
    "colab": {
     "base_uri": "https://localhost:8080/",
     "height": 303
    },
    "executionInfo": {
     "elapsed": 4,
     "status": "ok",
     "timestamp": 1747834838370,
     "user": {
      "displayName": "Jeanett Daga",
      "userId": "07863803926035571979"
     },
     "user_tz": 180
    },
    "id": "47JW98RfqTYt",
    "outputId": "aa9675eb-ab02-41bd-bf42-de8eecd32397"
   },
   "outputs": [
    {
     "data": {
      "application/vnd.microsoft.datawrangler.viewer.v0+json": {
       "columns": [
        {
         "name": "index",
         "rawType": "object",
         "type": "string"
        },
        {
         "name": "PERMANOVA results",
         "rawType": "object",
         "type": "unknown"
        }
       ],
       "ref": "7a479787-2fd0-4b6c-8e90-8f5cd0acc441",
       "rows": [
        [
         "method name",
         "PERMANOVA"
        ],
        [
         "test statistic name",
         "pseudo-F"
        ],
        [
         "sample size",
         "64"
        ],
        [
         "number of groups",
         "2"
        ],
        [
         "test statistic",
         "5.596858682720879"
        ],
        [
         "p-value",
         "0.001"
        ],
        [
         "number of permutations",
         "999"
        ]
       ],
       "shape": {
        "columns": 1,
        "rows": 7
       }
      },
      "text/plain": [
       "method name               PERMANOVA\n",
       "test statistic name        pseudo-F\n",
       "sample size                      64\n",
       "number of groups                  2\n",
       "test statistic             5.596859\n",
       "p-value                       0.001\n",
       "number of permutations          999\n",
       "Name: PERMANOVA results, dtype: object"
      ]
     },
     "execution_count": 29,
     "metadata": {},
     "output_type": "execute_result"
    }
   ],
   "source": [
    "# Make PERMANOVA analysis using the full distance matrix and the empo_1 metadata\n",
    "permanova(\n",
    "    distance_matrix=full_dm, \n",
    "    grouping=empo_1\n",
    "    )"
   ]
  },
  {
   "cell_type": "code",
   "execution_count": 30,
   "metadata": {
    "colab": {
     "base_uri": "https://localhost:8080/",
     "height": 303
    },
    "executionInfo": {
     "elapsed": 30,
     "status": "ok",
     "timestamp": 1747834840336,
     "user": {
      "displayName": "Jeanett Daga",
      "userId": "07863803926035571979"
     },
     "user_tz": 180
    },
    "id": "FQDn0Vnp0FpY",
    "outputId": "30ca22a8-e2fb-4c41-b9d6-23a4a7b4c2fe"
   },
   "outputs": [
    {
     "data": {
      "application/vnd.microsoft.datawrangler.viewer.v0+json": {
       "columns": [
        {
         "name": "index",
         "rawType": "object",
         "type": "string"
        },
        {
         "name": "PERMANOVA results",
         "rawType": "object",
         "type": "unknown"
        }
       ],
       "ref": "f824f79b-7e44-4705-a9aa-9b847a71b910",
       "rows": [
        [
         "method name",
         "PERMANOVA"
        ],
        [
         "test statistic name",
         "pseudo-F"
        ],
        [
         "sample size",
         "64"
        ],
        [
         "number of groups",
         "4"
        ],
        [
         "test statistic",
         "3.933261868356101"
        ],
        [
         "p-value",
         "0.001"
        ],
        [
         "number of permutations",
         "999"
        ]
       ],
       "shape": {
        "columns": 1,
        "rows": 7
       }
      },
      "text/plain": [
       "method name               PERMANOVA\n",
       "test statistic name        pseudo-F\n",
       "sample size                      64\n",
       "number of groups                  4\n",
       "test statistic             3.933262\n",
       "p-value                       0.001\n",
       "number of permutations          999\n",
       "Name: PERMANOVA results, dtype: object"
      ]
     },
     "execution_count": 30,
     "metadata": {},
     "output_type": "execute_result"
    }
   ],
   "source": [
    "# Obtain the empo_2 column from the SampleMetadata object and convert it to a pandas Series\n",
    "empo_2 = latam_metadata.get_column('empo_2').to_series()\n",
    "permanova(\n",
    "    distance_matrix=full_dm, \n",
    "    grouping=empo_2\n",
    "    )"
   ]
  },
  {
   "cell_type": "markdown",
   "metadata": {
    "id": "96oCczGHrFxv"
   },
   "source": [
    "## Incorporating phylogeny"
   ]
  },
  {
   "cell_type": "code",
   "execution_count": 31,
   "metadata": {
    "colab": {
     "base_uri": "https://localhost:8080/"
    },
    "executionInfo": {
     "elapsed": 14,
     "status": "ok",
     "timestamp": 1747835496715,
     "user": {
      "displayName": "Jeanett Daga",
      "userId": "07863803926035571979"
     },
     "user_tz": 180
    },
    "id": "b6VbbfgaG3Xn",
    "outputId": "718b1627-5c1c-49ad-81aa-e8379c8d717d"
   },
   "outputs": [
    {
     "data": {
      "text/plain": [
       "SampleMetadata\n",
       "--------------\n",
       "92 IDs x 33 columns\n",
       "sample_name_original:          ColumnProperties(type='categorical', missing_scheme='blank')\n",
       "sample_type:                   ColumnProperties(type='categorical', missing_scheme='blank')\n",
       "collection_timestamp:          ColumnProperties(type='categorical', missing_scheme='blank')\n",
       "country:                       ColumnProperties(type='categorical', missing_scheme='blank')\n",
       "depth_sample:                  ColumnProperties(type='numeric', missing_scheme='blank')\n",
       "description:                   ColumnProperties(type='categorical', missing_scheme='blank')\n",
       "elevation:                     ColumnProperties(type='numeric', missing_scheme='blank')\n",
       "emp500_principal_investigator: ColumnProperties(type='categorical', missing_scheme='blank')\n",
       "emp500_study_id:               ColumnProperties(type='numeric', missing_scheme='blank')\n",
       "emp500_pi_study_id:            ColumnProperties(type='categorical', missing_scheme='blank')\n",
       "emp500_title:                  ColumnProperties(type='categorical', missing_scheme='blank')\n",
       "empo_0:                        ColumnProperties(type='categorical', missing_scheme='blank')\n",
       "empo_1:                        ColumnProperties(type='categorical', missing_scheme='blank')\n",
       "empo_2:                        ColumnProperties(type='categorical', missing_scheme='blank')\n",
       "empo_3:                        ColumnProperties(type='categorical', missing_scheme='blank')\n",
       "empo_salinity:                 ColumnProperties(type='categorical', missing_scheme='blank')\n",
       "empo_v2_2:                     ColumnProperties(type='categorical', missing_scheme='blank')\n",
       "empo_v2_3a:                    ColumnProperties(type='categorical', missing_scheme='blank')\n",
       "empo_v2_3b:                    ColumnProperties(type='categorical', missing_scheme='blank')\n",
       "empo_v2_4a:                    ColumnProperties(type='categorical', missing_scheme='blank')\n",
       "empo_v2_4b:                    ColumnProperties(type='categorical', missing_scheme='blank')\n",
       "empo_4:                        ColumnProperties(type='categorical', missing_scheme='blank')\n",
       "env_biome:                     ColumnProperties(type='categorical', missing_scheme='blank')\n",
       "env_feature:                   ColumnProperties(type='categorical', missing_scheme='blank')\n",
       "env_material:                  ColumnProperties(type='categorical', missing_scheme='blank')\n",
       "env_package:                   ColumnProperties(type='categorical', missing_scheme='blank')\n",
       "geo_loc_name:                  ColumnProperties(type='categorical', missing_scheme='blank')\n",
       "host_subject_id:               ColumnProperties(type='categorical', missing_scheme='blank')\n",
       "host_scientific_name:          ColumnProperties(type='categorical', missing_scheme='blank')\n",
       "latitude:                      ColumnProperties(type='numeric', missing_scheme='blank')\n",
       "longitude:                     ColumnProperties(type='numeric', missing_scheme='blank')\n",
       "project_name:                  ColumnProperties(type='categorical', missing_scheme='blank')\n",
       "scientific_name:               ColumnProperties(type='categorical', missing_scheme='blank')\n",
       "\n",
       "Call to_dataframe() for a tabular representation."
      ]
     },
     "execution_count": 31,
     "metadata": {},
     "output_type": "execute_result"
    }
   ],
   "source": [
    "# Print the metadata object\n",
    "latam_metadata"
   ]
  },
  {
   "cell_type": "code",
   "execution_count": 32,
   "metadata": {
    "colab": {
     "base_uri": "https://localhost:8080/"
    },
    "executionInfo": {
     "elapsed": 92,
     "status": "ok",
     "timestamp": 1747835251831,
     "user": {
      "displayName": "Jeanett Daga",
      "userId": "07863803926035571979"
     },
     "user_tz": 180
    },
    "id": "wFkypyIvFAw0",
    "outputId": "22275735-3062-4442-d29c-01b371b88095"
   },
   "outputs": [
    {
     "data": {
      "text/plain": [
       "14933 x 68 <class 'biom.table.Table'> with 90562 nonzero entries (8% dense)"
      ]
     },
     "execution_count": 32,
     "metadata": {},
     "output_type": "execute_result"
    }
   ],
   "source": [
    "# Create Table object from a latam_ogu BIOM file\n",
    "latam_shotgun = Table.read(f'{HOME}/latam/shotgun/latam_ogu.biom')\n",
    "latam_shotgun"
   ]
  },
  {
   "cell_type": "code",
   "execution_count": 33,
   "metadata": {
    "executionInfo": {
     "elapsed": 15,
     "status": "ok",
     "timestamp": 1747835340561,
     "user": {
      "displayName": "Jeanett Daga",
      "userId": "07863803926035571979"
     },
     "user_tz": 180
    },
    "id": "Xg5JuomdGm0c"
   },
   "outputs": [],
   "source": [
    "# Import table from skbio\n",
    "from skbio import table"
   ]
  },
  {
   "cell_type": "code",
   "execution_count": 34,
   "metadata": {
    "colab": {
     "base_uri": "https://localhost:8080/",
     "height": 455
    },
    "executionInfo": {
     "elapsed": 568,
     "status": "ok",
     "timestamp": 1747835377785,
     "user": {
      "displayName": "Jeanett Daga",
      "userId": "07863803926035571979"
     },
     "user_tz": 180
    },
    "id": "7QterVweFMNV",
    "outputId": "08aa9589-8faa-40f1-a0a8-65c0801e932c"
   },
   "outputs": [
    {
     "data": {
      "application/vnd.microsoft.datawrangler.viewer.v0+json": {
       "columns": [
        {
         "name": "index",
         "rawType": "object",
         "type": "string"
        },
        {
         "name": "1",
         "rawType": "object",
         "type": "string"
        }
       ],
       "ref": "a2b37841-dad4-466d-8ee6-dbaaf94403c4",
       "rows": [
        [
         "G000005825",
         "d__Bacteria; p__Firmicutes; c__Bacilli; o__Bacillales_H; f__Bacillaceae_D; g__Bacillus_S; s__Bacillus_S pseudofirmus"
        ],
        [
         "G000006175",
         "d__Archaea; p__Methanobacteriota_A; c__Methanococci; o__Methanococcales; f__Methanococcaceae; g__Methanococcus; s__Methanococcus voltae_A"
        ],
        [
         "G000006605",
         "d__Bacteria; p__Actinobacteriota; c__Actinomycetia; o__Mycobacteriales; f__Mycobacteriaceae; g__Corynebacterium; s__Corynebacterium jeikeium"
        ],
        [
         "G000006725",
         "d__Bacteria; p__Proteobacteria; c__Gammaproteobacteria; o__Xanthomonadales; f__Xanthomonadaceae; g__Xylella; s__Xylella fastidiosa"
        ],
        [
         "G000006745",
         "d__Bacteria; p__Proteobacteria; c__Gammaproteobacteria; o__Enterobacterales; f__Vibrionaceae; g__Vibrio; s__Vibrio cholerae"
        ],
        [
         "G000006785",
         "d__Bacteria; p__Firmicutes; c__Bacilli; o__Lactobacillales; f__Streptococcaceae; g__Streptococcus; s__Streptococcus pyogenes"
        ],
        [
         "G000006845",
         "d__Bacteria; p__Proteobacteria; c__Gammaproteobacteria; o__Burkholderiales; f__Neisseriaceae; g__Neisseria; s__Neisseria gonorrhoeae"
        ],
        [
         "G000006865",
         "d__Bacteria; p__Firmicutes; c__Bacilli; o__Lactobacillales; f__Streptococcaceae; g__Lactococcus; s__Lactococcus lactis"
        ],
        [
         "G000006925",
         "d__Bacteria; p__Proteobacteria; c__Gammaproteobacteria; o__Enterobacterales; f__Enterobacteriaceae; g__Escherichia; s__Escherichia coli"
        ],
        [
         "G000006965",
         "d__Bacteria; p__Proteobacteria; c__Alphaproteobacteria; o__Rhizobiales; f__Rhizobiaceae; g__Sinorhizobium; s__Sinorhizobium meliloti"
        ],
        [
         "G000006985",
         "d__Bacteria; p__Bacteroidota; c__Chlorobia; o__Chlorobiales; f__Chlorobiaceae; g__Chlorobaculum; s__Chlorobaculum tepidum"
        ],
        [
         "G000007005",
         "d__Archaea; p__Thermoproteota; c__Thermoproteia; o__Sulfolobales; f__Sulfolobaceae; g__Saccharolobus; s__Saccharolobus solfataricus"
        ],
        [
         "G000007025",
         "d__Bacteria; p__Proteobacteria; c__Alphaproteobacteria; o__Rickettsiales; f__Rickettsiaceae; g__Rickettsia; s__Rickettsia rickettsii"
        ],
        [
         "G000007085",
         "d__Bacteria; p__Firmicutes_A; c__Thermoanaerobacteria; o__Thermoanaerobacterales; f__Thermoanaerobacteraceae; g__Caldanaerobacter; s__Caldanaerobacter subterraneus"
        ],
        [
         "G000007105",
         "d__Bacteria; p__Proteobacteria; c__Alphaproteobacteria; o__Sphingomonadales; f__Sphingomonadaceae; g__Zymomonas; s__Zymomonas mobilis"
        ],
        [
         "G000007145",
         "d__Bacteria; p__Proteobacteria; c__Gammaproteobacteria; o__Xanthomonadales; f__Xanthomonadaceae; g__Xanthomonas; s__Xanthomonas campestris"
        ],
        [
         "G000007205",
         "d__Bacteria; p__Chlamydiota; c__Chlamydiia; o__Chlamydiales; f__Chlamydiaceae; g__Chlamydophila; s__Chlamydophila pneumoniae"
        ],
        [
         "G000007265",
         "d__Bacteria; p__Firmicutes; c__Bacilli; o__Lactobacillales; f__Streptococcaceae; g__Streptococcus; s__Streptococcus agalactiae"
        ],
        [
         "G000007325",
         "d__Bacteria; p__Fusobacteriota; c__Fusobacteriia; o__Fusobacteriales; f__Fusobacteriaceae; g__Fusobacterium; s__Fusobacterium nucleatum"
        ],
        [
         "G000007345",
         "d__Archaea; p__Halobacteriota; c__Methanosarcinia; o__Methanosarcinales; f__Methanosarcinaceae; g__Methanosarcina; s__Methanosarcina acetivorans"
        ],
        [
         "G000007365",
         "d__Bacteria; p__Proteobacteria; c__Gammaproteobacteria; o__Enterobacterales_A; f__Enterobacteriaceae_A; g__Buchnera; s__Buchnera aphidicola_O"
        ],
        [
         "G000007385",
         "d__Bacteria; p__Proteobacteria; c__Gammaproteobacteria; o__Xanthomonadales; f__Xanthomonadaceae; g__Xanthomonas; s__Xanthomonas oryzae"
        ],
        [
         "G000007465",
         "d__Bacteria; p__Firmicutes; c__Bacilli; o__Lactobacillales; f__Streptococcaceae; g__Streptococcus; s__Streptococcus mutans"
        ],
        [
         "G000007485",
         "d__Bacteria; p__Actinobacteriota; c__Actinomycetia; o__Actinomycetales; f__Microbacteriaceae; g__Tropheryma; s__Tropheryma whipplei"
        ],
        [
         "G000007525",
         "d__Bacteria; p__Actinobacteriota; c__Actinomycetia; o__Actinomycetales; f__Bifidobacteriaceae; g__Bifidobacterium; s__Bifidobacterium longum"
        ],
        [
         "G000007565",
         "d__Bacteria; p__Proteobacteria; c__Gammaproteobacteria; o__Pseudomonadales; f__Pseudomonadaceae; g__Pseudomonas_E; s__Pseudomonas_E hunanensis"
        ],
        [
         "G000007605",
         "d__Bacteria; p__Chlamydiota; c__Chlamydiia; o__Chlamydiales; f__Chlamydiaceae; g__Chlamydophila; s__Chlamydophila caviae"
        ],
        [
         "G000007625",
         "d__Bacteria; p__Firmicutes_A; c__Clostridia; o__Clostridiales; f__Clostridiaceae; g__Clostridium_G; s__Clostridium_G tetani"
        ],
        [
         "G000007645",
         "d__Bacteria; p__Firmicutes; c__Bacilli; o__Staphylococcales; f__Staphylococcaceae; g__Staphylococcus; s__Staphylococcus epidermidis"
        ],
        [
         "G000007705",
         "d__Bacteria; p__Proteobacteria; c__Gammaproteobacteria; o__Burkholderiales; f__Chromobacteriaceae; g__Chromobacterium; s__Chromobacterium violaceum"
        ],
        [
         "G000007725",
         "d__Bacteria; p__Proteobacteria; c__Gammaproteobacteria; o__Enterobacterales_A; f__Enterobacteriaceae_A; g__Buchnera; s__Buchnera aphidicola_H"
        ],
        [
         "G000007745",
         "d__Bacteria; p__Proteobacteria; c__Gammaproteobacteria; o__Enterobacterales; f__Pasteurellaceae; g__Basfia; s__Basfia succiniciproducens"
        ],
        [
         "G000007765",
         "d__Bacteria; p__Proteobacteria; c__Gammaproteobacteria; o__Coxiellales; f__Coxiellaceae; g__Coxiella; s__Coxiella burnetii"
        ],
        [
         "G000007785",
         "d__Bacteria; p__Firmicutes; c__Bacilli; o__Lactobacillales; f__Enterococcaceae; g__Enterococcus; s__Enterococcus faecalis"
        ],
        [
         "G000007805",
         "d__Bacteria; p__Proteobacteria; c__Gammaproteobacteria; o__Pseudomonadales; f__Pseudomonadaceae; g__Pseudomonas_E; s__Pseudomonas_E avellanae"
        ],
        [
         "G000007825",
         "d__Bacteria; p__Firmicutes; c__Bacilli; o__Bacillales; f__Bacillaceae_G; g__Bacillus_A; s__Bacillus_A cereus"
        ],
        [
         "G000007845",
         "d__Bacteria; p__Firmicutes; c__Bacilli; o__Bacillales; f__Bacillaceae_G; g__Bacillus_A; s__Bacillus_A anthracis"
        ],
        [
         "G000007865",
         "d__Bacteria; p__Actinobacteriota; c__Actinomycetia; o__Mycobacteriales; f__Mycobacteriaceae; g__Mycobacterium; s__Mycobacterium avium"
        ],
        [
         "G000007905",
         "d__Bacteria; p__Campylobacterota; c__Campylobacteria; o__Campylobacterales; f__Helicobacteraceae; g__Helicobacter_C; s__Helicobacter_C hepaticus"
        ],
        [
         "G000007925",
         "d__Bacteria; p__Cyanobacteria; c__Cyanobacteriia; o__PCC-6307; f__Cyanobiaceae; g__Prochlorococcus; s__Prochlorococcus marinus"
        ],
        [
         "G000007945",
         "d__Bacteria; p__Proteobacteria; c__Gammaproteobacteria; o__Enterobacterales; f__Pasteurellaceae; g__Haemophilus_B; s__Haemophilus_B ducreyi"
        ],
        [
         "G000007985",
         "d__Bacteria; p__Desulfobacterota; c__Desulfuromonadia; o__Geobacterales; f__Geobacteraceae; g__Geobacter; s__Geobacter sulfurreducens"
        ],
        [
         "G000008025",
         "d__Bacteria; p__Proteobacteria; c__Alphaproteobacteria; o__Rickettsiales; f__Anaplasmataceae; g__Wolbachia; s__Wolbachia pipientis"
        ],
        [
         "G000008045",
         "d__Bacteria; p__Proteobacteria; c__Alphaproteobacteria; o__Rickettsiales; f__Rickettsiaceae; g__Rickettsia; s__Rickettsia typhi"
        ],
        [
         "G000008165",
         "d__Bacteria; p__Firmicutes; c__Bacilli; o__Bacillales; f__Bacillaceae_G; g__Bacillus_A; s__Bacillus_A anthracis"
        ],
        [
         "G000008185",
         "d__Bacteria; p__Spirochaetota; c__Spirochaetia; o__Treponematales; f__Treponemataceae; g__Treponema_B; s__Treponema_B denticola"
        ],
        [
         "G000008245",
         "d__Bacteria; p__Firmicutes; c__Bacilli; o__Mycoplasmatales; f__Metamycoplasmataceae; g__Mycoplasmopsis_A; s__Mycoplasmopsis_A synoviae"
        ],
        [
         "G000008325",
         "d__Bacteria; p__Proteobacteria; c__Gammaproteobacteria; o__Methylococcales; f__Methylococcaceae; g__Methylococcus; s__Methylococcus capsulatus"
        ],
        [
         "G000008345",
         "d__Bacteria; p__Actinobacteriota; c__Actinomycetia; o__Propionibacteriales; f__Propionibacteriaceae; g__Cutibacterium; s__Cutibacterium acnes"
        ],
        [
         "G000008365",
         "d__Bacteria; p__Firmicutes; c__Bacilli; o__Mycoplasmatales; f__Metamycoplasmataceae; g__Mycoplasma_J; s__Mycoplasma_J mobile"
        ]
       ],
       "shape": {
        "columns": 1,
        "rows": 14933
       }
      },
      "text/html": [
       "<div>\n",
       "<style scoped>\n",
       "    .dataframe tbody tr th:only-of-type {\n",
       "        vertical-align: middle;\n",
       "    }\n",
       "\n",
       "    .dataframe tbody tr th {\n",
       "        vertical-align: top;\n",
       "    }\n",
       "\n",
       "    .dataframe thead th {\n",
       "        text-align: right;\n",
       "    }\n",
       "</style>\n",
       "<table border=\"1\" class=\"dataframe\">\n",
       "  <thead>\n",
       "    <tr style=\"text-align: right;\">\n",
       "      <th></th>\n",
       "      <th>1</th>\n",
       "    </tr>\n",
       "    <tr>\n",
       "      <th>0</th>\n",
       "      <th></th>\n",
       "    </tr>\n",
       "  </thead>\n",
       "  <tbody>\n",
       "    <tr>\n",
       "      <th>G000005825</th>\n",
       "      <td>d__Bacteria; p__Firmicutes; c__Bacilli; o__Bac...</td>\n",
       "    </tr>\n",
       "    <tr>\n",
       "      <th>G000006175</th>\n",
       "      <td>d__Archaea; p__Methanobacteriota_A; c__Methano...</td>\n",
       "    </tr>\n",
       "    <tr>\n",
       "      <th>G000006605</th>\n",
       "      <td>d__Bacteria; p__Actinobacteriota; c__Actinomyc...</td>\n",
       "    </tr>\n",
       "    <tr>\n",
       "      <th>G000006725</th>\n",
       "      <td>d__Bacteria; p__Proteobacteria; c__Gammaproteo...</td>\n",
       "    </tr>\n",
       "    <tr>\n",
       "      <th>G000006745</th>\n",
       "      <td>d__Bacteria; p__Proteobacteria; c__Gammaproteo...</td>\n",
       "    </tr>\n",
       "    <tr>\n",
       "      <th>...</th>\n",
       "      <td>...</td>\n",
       "    </tr>\n",
       "    <tr>\n",
       "      <th>G902826025</th>\n",
       "      <td>d__Bacteria; p__Actinobacteriota; c__Acidimicr...</td>\n",
       "    </tr>\n",
       "    <tr>\n",
       "      <th>G902826465</th>\n",
       "      <td>d__Bacteria; p__Acidobacteriota; c__Vicinamiba...</td>\n",
       "    </tr>\n",
       "    <tr>\n",
       "      <th>G902826605</th>\n",
       "      <td>d__Bacteria; p__Acidobacteriota; c__Acidobacte...</td>\n",
       "    </tr>\n",
       "    <tr>\n",
       "      <th>G902827015</th>\n",
       "      <td>d__Bacteria; p__Proteobacteria; c__Gammaproteo...</td>\n",
       "    </tr>\n",
       "    <tr>\n",
       "      <th>G902827055</th>\n",
       "      <td>d__Bacteria; p__Chloroflexota; c__Dehalococcoi...</td>\n",
       "    </tr>\n",
       "  </tbody>\n",
       "</table>\n",
       "<p>14933 rows × 1 columns</p>\n",
       "</div>"
      ],
      "text/plain": [
       "                                                            1\n",
       "0                                                            \n",
       "G000005825  d__Bacteria; p__Firmicutes; c__Bacilli; o__Bac...\n",
       "G000006175  d__Archaea; p__Methanobacteriota_A; c__Methano...\n",
       "G000006605  d__Bacteria; p__Actinobacteriota; c__Actinomyc...\n",
       "G000006725  d__Bacteria; p__Proteobacteria; c__Gammaproteo...\n",
       "G000006745  d__Bacteria; p__Proteobacteria; c__Gammaproteo...\n",
       "...                                                       ...\n",
       "G902826025  d__Bacteria; p__Actinobacteriota; c__Acidimicr...\n",
       "G902826465  d__Bacteria; p__Acidobacteriota; c__Vicinamiba...\n",
       "G902826605  d__Bacteria; p__Acidobacteriota; c__Acidobacte...\n",
       "G902827015  d__Bacteria; p__Proteobacteria; c__Gammaproteo...\n",
       "G902827055  d__Bacteria; p__Chloroflexota; c__Dehalococcoi...\n",
       "\n",
       "[14933 rows x 1 columns]"
      ]
     },
     "execution_count": 34,
     "metadata": {},
     "output_type": "execute_result"
    }
   ],
   "source": [
    "# Create path to the latam_ogu.tax file\n",
    "latamtax_path = HOME + \"shotgun/latam_ogu.tax\"\n",
    "\n",
    "# Read the latam_ogu.tax file into a pandas DataFrame\n",
    "latam_tax = pd.read_csv(\n",
    "    filepath_or_buffer=latamtax_path, \n",
    "    sep='\\t', \n",
    "    low_memory=False, \n",
    "    header=None,\n",
    "    index_col=0\n",
    "    )\n",
    "latam_tax"
   ]
  },
  {
   "cell_type": "code",
   "execution_count": 35,
   "metadata": {
    "executionInfo": {
     "elapsed": 143,
     "status": "ok",
     "timestamp": 1747834842971,
     "user": {
      "displayName": "Jeanett Daga",
      "userId": "07863803926035571979"
     },
     "user_tz": 180
    },
    "id": "zllhqtzMrDXP"
   },
   "outputs": [],
   "source": [
    "# Get all sample IDs from the rarefied table (even_table)\n",
    "sample_ids = even_table.ids()\n",
    "\n",
    "# Create a dictionary to map each sample ID to its corresponding taxonomic information\n",
    "samples_represented = {\n",
    "    id_: set(sample_ids[v.indices])             # Convert to set for faster lookup\n",
    "    for v, id_, _ in even_table.iter(axis='observation', dense=False)\n",
    "    }"
   ]
  },
  {
   "cell_type": "code",
   "execution_count": 36,
   "metadata": {
    "executionInfo": {
     "elapsed": 22,
     "status": "ok",
     "timestamp": 1747834844410,
     "user": {
      "displayName": "Jeanett Daga",
      "userId": "07863803926035571979"
     },
     "user_tz": 180
    },
    "id": "sRicIuErr0YK"
   },
   "outputs": [],
   "source": [
    "# Import reduce from functools and or_ from operator\n",
    "from functools import reduce\n",
    "from operator import or_"
   ]
  },
  {
   "cell_type": "code",
   "execution_count": 37,
   "metadata": {
    "executionInfo": {
     "elapsed": 121,
     "status": "ok",
     "timestamp": 1747834845523,
     "user": {
      "displayName": "Jeanett Daga",
      "userId": "07863803926035571979"
     },
     "user_tz": 180
    },
    "id": "qarJTHXYr0Uh"
   },
   "outputs": [],
   "source": [
    "# Traverse the phylogenetic tree in post-order\n",
    "for node in phylogeny.postorder():\n",
    "    \n",
    "    # Check if current node is a tip/leaf (terminal node)\n",
    "    if node.is_tip():\n",
    "        # For tip nodes:\n",
    "        # 1. Store which samples contain this organism by looking up its name \n",
    "        #    in samples_represented dictionary (empty set if not found)\n",
    "        node.samples_represented = samples_represented.get(node.name, set())\n",
    "        \n",
    "        # 2. Initialize tips_represented with just this tip's name\n",
    "        node.tips_represented = {node.name, }\n",
    "\n",
    "    else:\n",
    "        # For internal nodes (ancestors):\n",
    "        # 1. Aggregate samples_represented from all child nodes using set union (OR operation)\n",
    "        node.samples_represented = reduce(or_, [child.samples_represented for child in node.children])\n",
    "        \n",
    "        # 2. Aggregate tips_represented from all child nodes using set union\n",
    "        node.tips_represented = reduce(or_, [child.tips_represented for child in node.children])"
   ]
  },
  {
   "cell_type": "code",
   "execution_count": 38,
   "metadata": {
    "colab": {
     "base_uri": "https://localhost:8080/"
    },
    "executionInfo": {
     "elapsed": 26,
     "status": "ok",
     "timestamp": 1747834847317,
     "user": {
      "displayName": "Jeanett Daga",
      "userId": "07863803926035571979"
     },
     "user_tz": 180
    },
    "id": "qWO2qOX8sOYO",
    "outputId": "d28f9e90-4d70-4f77-bc64-c9899e3ef873"
   },
   "outputs": [
    {
     "name": "stdout",
     "output_type": "stream",
     "text": [
      "Samples with N2: 26\n",
      "Samples with N3: 64\n"
     ]
    }
   ],
   "source": [
    "# Iterate through each immediate child node of the phylogeny's root\n",
    "for child in phylogeny.children:\n",
    "    \n",
    "    # Print information about samples containing each child clade:\n",
    "    # - child.name: The identifier/name of the current child node\n",
    "    # - len(child.samples_represented): Counts how many samples contain organisms from this clade\n",
    "    print(f\"Samples with {child.name}: {len(child.samples_represented)}\")"
   ]
  },
  {
   "cell_type": "code",
   "execution_count": 39,
   "metadata": {
    "executionInfo": {
     "elapsed": 7,
     "status": "ok",
     "timestamp": 1747834851075,
     "user": {
      "displayName": "Jeanett Daga",
      "userId": "07863803926035571979"
     },
     "user_tz": 180
    },
    "id": "U_9IsZyz1Nzw"
   },
   "outputs": [],
   "source": [
    "# Import itemgetter from operator\n",
    "from operator import itemgetter"
   ]
  },
  {
   "cell_type": "code",
   "execution_count": null,
   "metadata": {
    "executionInfo": {
     "elapsed": 43,
     "status": "ok",
     "timestamp": 1747834852494,
     "user": {
      "displayName": "Jeanett Daga",
      "userId": "07863803926035571979"
     },
     "user_tz": 180
    },
    "id": "HAccJ2WZ1UsT"
   },
   "outputs": [],
   "source": [
    "# Create a list of tuples containing information about named phylogenetic nodes:\n",
    "# Each tuple contains:\n",
    "# - n.name: The taxonomic identifier of the node (e.g., p__Proteobacteria)\n",
    "# - len(n.samples_represented): Count of samples containing this phylogenetic group\n",
    "# - n: The actual node object itself\n",
    "# Only includes nodes that:\n",
    "# 1. Have a name (n.name is not None)\n",
    "# 2. Represent phylum-level taxa (names starting with 'p__')\n",
    "named_nodes = [(n.name, len(n.samples_represented), n)\n",
    "               for n in phylogeny.traverse()\n",
    "               if n.name is not None and n.name.startswith('p__')]\n",
    "\n",
    "# Sort the nodes by their sample count in descending order\n",
    "# itemgetter(1) selects the count (second element) for sorting\n",
    "named_nodes = sorted(named_nodes, key=itemgetter(1), reverse= True)\n",
    "\n",
    "# Print the top 10 most prevalent phyla and their sample counts\n",
    "# The underscore (_) ignores the node object in the unpacked tuple\n",
    "for name, count, _ in named_nodes[:10]:\n",
    "    print(f\"Samples with {name}: {count}\")"
   ]
  },
  {
   "cell_type": "code",
   "execution_count": 53,
   "metadata": {
    "colab": {
     "base_uri": "https://localhost:8080/"
    },
    "executionInfo": {
     "elapsed": 19,
     "status": "ok",
     "timestamp": 1747834855296,
     "user": {
      "displayName": "Jeanett Daga",
      "userId": "07863803926035571979"
     },
     "user_tz": 180
    },
    "id": "hJjUVwhM1cC5",
    "outputId": "8cd40a21-a7a7-40c3-8f0a-67c51acbccbe"
   },
   "outputs": [
    {
     "name": "stdout",
     "output_type": "stream",
     "text": [
      "Samples with N2: 23\n",
      "Samples with N3: 64\n"
     ]
    }
   ],
   "source": [
    "# Iterate through each immediate child node of the phylogeny's root\n",
    "for child in phylogeny.children:\n",
    "    \n",
    "    # Print information about samples containing each child clade:\n",
    "    # - child.name: The identifier/name of the current child node\n",
    "    # - len(child.samples_represented): Counts how many samples contain organisms from this clade\n",
    "    print(f\"Samples with {child.name}: {len(child.samples_represented)}\")"
   ]
  },
  {
   "cell_type": "code",
   "execution_count": 54,
   "metadata": {
    "executionInfo": {
     "elapsed": 8,
     "status": "ok",
     "timestamp": 1747834856579,
     "user": {
      "displayName": "Jeanett Daga",
      "userId": "07863803926035571979"
     },
     "user_tz": 180
    },
    "id": "gZYmWzZx2Sax"
   },
   "outputs": [],
   "source": [
    "def intersect_with_node(tab, node):\n",
    "    # Get all feature IDs (e.g., OTUs/ASVs) present in the table as a set\n",
    "    tips_in_table = set(tab.ids(axis='observation'))\n",
    "    \n",
    "    # Calculate intersection between:\n",
    "    # 1. Tips represented in this phylogenetic node (from tree traversal)\n",
    "    # 2. Features actually present in our table\n",
    "    tipset = node.tips_represented & tips_in_table\n",
    "    \n",
    "    # Return a filtered version of the table that:\n",
    "    # 1. Only keeps features present in both the node AND table (tipset)\n",
    "    # 2. Operates on the observation axis (features/rows)\n",
    "    # 3. Creates a new table (inplace=False)\n",
    "    # 4. Removes any samples that end up with zero counts\n",
    "    return tab.filter(tipset, axis='observation', inplace=False).remove_empty()"
   ]
  },
  {
   "cell_type": "code",
   "execution_count": null,
   "metadata": {
    "colab": {
     "base_uri": "https://localhost:8080/",
     "height": 220
    },
    "executionInfo": {
     "elapsed": 11,
     "status": "error",
     "timestamp": 1747834878857,
     "user": {
      "displayName": "Jeanett Daga",
      "userId": "07863803926035571979"
     },
     "user_tz": 180
    },
    "id": "HBCAzd_z2dgG",
    "outputId": "2aee9dc2-2129-433f-f70e-8d67e76e5367"
   },
   "outputs": [
    {
     "name": "stdout",
     "output_type": "stream",
     "text": [
      "Error: named_nodes does not contain enough phylum-level nodes. Please check the tree and node naming.\n"
     ]
    }
   ],
   "source": [
    "# Unpack the first element of named_nodes (top phylum) into three variables:\n",
    "# - first_name: The taxonomic name (e.g., 'p__Proteobacteria')\n",
    "# - _: Discards the sample count (not needed here)\n",
    "# - first_node: The actual phylogenetic node object\n",
    "first_name, _, first_node = named_nodes[0]\n",
    "\n",
    "# Unpack the third element of named_nodes (third phylum) in same way\n",
    "# Note: Using index [2] for the third position (0-indexed)\n",
    "second_name, _, second_node = named_nodes[2]\n",
    "\n",
    "# Create a rarefied table for the top phylum:\n",
    "# 1. intersect_with_node() filters the full latam_shotgun table to only include\n",
    "#    features belonging to this phylum (first_node)\n",
    "# 2. subsample() performs rarefaction to the specified depth\n",
    "even_table_first = intersect_with_node(latam_shotgun, first_node).subsample(depth)\n",
    "\n",
    "# Repeat the process for the third phylum\n",
    "even_table_second = intersect_with_node(latam_shotgun, second_node).subsample(depth)\n"
   ]
  },
  {
   "cell_type": "markdown",
   "metadata": {
    "id": "MA1fbe9I0dpt"
   },
   "source": [
    "## Mantel test"
   ]
  },
  {
   "cell_type": "code",
   "execution_count": 43,
   "metadata": {
    "executionInfo": {
     "elapsed": 39,
     "status": "ok",
     "timestamp": 1747834881367,
     "user": {
      "displayName": "Jeanett Daga",
      "userId": "07863803926035571979"
     },
     "user_tz": 180
    },
    "id": "f4UhSJ4HsOQ2"
   },
   "outputs": [],
   "source": [
    "from skbio.stats.distance import mantel"
   ]
  },
  {
   "cell_type": "code",
   "execution_count": 44,
   "metadata": {
    "colab": {
     "base_uri": "https://localhost:8080/",
     "height": 165
    },
    "executionInfo": {
     "elapsed": 28,
     "status": "error",
     "timestamp": 1747834881962,
     "user": {
      "displayName": "Jeanett Daga",
      "userId": "07863803926035571979"
     },
     "user_tz": 180
    },
    "id": "ANdCfsSx0nbL",
    "outputId": "9887f59f-7554-4d14-f985-4c4b159b8e00"
   },
   "outputs": [
    {
     "ename": "NameError",
     "evalue": "name 'first_dm' is not defined",
     "output_type": "error",
     "traceback": [
      "\u001b[0;31m---------------------------------------------------------------------------\u001b[0m",
      "\u001b[0;31mNameError\u001b[0m                                 Traceback (most recent call last)",
      "\u001b[0;32m<ipython-input-44-1fdfe419602f>\u001b[0m in \u001b[0;36m<cell line: 0>\u001b[0;34m()\u001b[0m\n\u001b[0;32m----> 1\u001b[0;31m \u001b[0mr\u001b[0m\u001b[0;34m,\u001b[0m \u001b[0mp\u001b[0m\u001b[0;34m,\u001b[0m \u001b[0m_\u001b[0m \u001b[0;34m=\u001b[0m \u001b[0mmantel\u001b[0m\u001b[0;34m(\u001b[0m\u001b[0mfirst_dm\u001b[0m\u001b[0;34m,\u001b[0m \u001b[0mempo_1\u001b[0m\u001b[0;34m)\u001b[0m\u001b[0;34m\u001b[0m\u001b[0;34m\u001b[0m\u001b[0m\n\u001b[0m\u001b[1;32m      2\u001b[0m \u001b[0mprint\u001b[0m\u001b[0;34m(\u001b[0m\u001b[0;34mf\"Mantel r={r:0.2} p={p:0.2}\"\u001b[0m\u001b[0;34m)\u001b[0m\u001b[0;34m\u001b[0m\u001b[0;34m\u001b[0m\u001b[0m\n",
      "\u001b[0;31mNameError\u001b[0m: name 'first_dm' is not defined"
     ]
    }
   ],
   "source": [
    "r, p, _ = mantel(first_dm, empo_1)\n",
    "print(f\"Mantel r={r:0.2} p={p:0.2}\")"
   ]
  },
  {
   "cell_type": "markdown",
   "metadata": {
    "id": "CZFu3if4wGqI"
   },
   "source": [
    "## NMDS"
   ]
  },
  {
   "cell_type": "code",
   "execution_count": 3,
   "metadata": {
    "colab": {
     "base_uri": "https://localhost:8080/",
     "height": 220
    },
    "executionInfo": {
     "elapsed": 2665,
     "status": "error",
     "timestamp": 1747856808906,
     "user": {
      "displayName": "Jeanett Daga",
      "userId": "07863803926035571979"
     },
     "user_tz": 180
    },
    "id": "bqbkDquJ-rXu",
    "outputId": "d40c0ff9-9869-43f6-e2c2-8d942169ff6e"
   },
   "outputs": [
    {
     "ename": "NameError",
     "evalue": "name 'full_dm' is not defined",
     "output_type": "error",
     "traceback": [
      "\u001b[0;31m---------------------------------------------------------------------------\u001b[0m",
      "\u001b[0;31mNameError\u001b[0m                                 Traceback (most recent call last)",
      "\u001b[0;32m<ipython-input-3-eec5ca84b803>\u001b[0m in \u001b[0;36m<cell line: 0>\u001b[0;34m()\u001b[0m\n\u001b[1;32m      6\u001b[0m \u001b[0;32mimport\u001b[0m \u001b[0mseaborn\u001b[0m \u001b[0;32mas\u001b[0m \u001b[0msns\u001b[0m\u001b[0;34m\u001b[0m\u001b[0;34m\u001b[0m\u001b[0m\n\u001b[1;32m      7\u001b[0m \u001b[0;31m# Generate a pandas DataFrame from the distance matrix\u001b[0m\u001b[0;34m\u001b[0m\u001b[0;34m\u001b[0m\u001b[0m\n\u001b[0;32m----> 8\u001b[0;31m \u001b[0mfull_dm_df\u001b[0m \u001b[0;34m=\u001b[0m \u001b[0mpd\u001b[0m\u001b[0;34m.\u001b[0m\u001b[0mDataFrame\u001b[0m\u001b[0;34m(\u001b[0m\u001b[0mfull_dm\u001b[0m\u001b[0;34m.\u001b[0m\u001b[0mdata\u001b[0m\u001b[0;34m,\u001b[0m \u001b[0mindex\u001b[0m\u001b[0;34m=\u001b[0m\u001b[0mfull_dm\u001b[0m\u001b[0;34m.\u001b[0m\u001b[0mids\u001b[0m\u001b[0;34m,\u001b[0m \u001b[0mcolumns\u001b[0m\u001b[0;34m=\u001b[0m\u001b[0mfull_dm\u001b[0m\u001b[0;34m.\u001b[0m\u001b[0mids\u001b[0m\u001b[0;34m)\u001b[0m\u001b[0;34m\u001b[0m\u001b[0;34m\u001b[0m\u001b[0m\n\u001b[0m\u001b[1;32m      9\u001b[0m \u001b[0;34m\u001b[0m\u001b[0m\n\u001b[1;32m     10\u001b[0m \u001b[0;31m# Print the first few rows of the DataFrame\u001b[0m\u001b[0;34m\u001b[0m\u001b[0;34m\u001b[0m\u001b[0m\n",
      "\u001b[0;31mNameError\u001b[0m: name 'full_dm' is not defined"
     ]
    }
   ],
   "source": [
    "from sklearn.manifold import MDS\n",
    "import matplotlib.pyplot as plt\n",
    "# prompt: genera un dataframe de las distancias de full_dm con nombre de columna y renglon la muestra correspondiente\n",
    "\n",
    "import pandas as pd\n",
    "import seaborn as sns\n",
    "# Generate a pandas DataFrame from the distance matrix\n",
    "full_dm_df = pd.DataFrame(full_dm.data, index=full_dm.ids, columns=full_dm.ids)\n",
    "\n",
    "# Print the first few rows of the DataFrame\n",
    "print(full_dm_df.head())\n",
    "nmds = MDS(n_components=2, dissimilarity='precomputed', metric=False, random_state=42)\n",
    "nmds_coords = nmds.fit_transform(full_dm_df.values)\n",
    "\n",
    "plt.scatter(nmds_coords[:, 0], nmds_coords[:, 1])\n",
    "plt.title(\"NMDS (Unifrac)\")\n",
    "plt.xlabel(\"NMDS1\")\n",
    "plt.ylabel(\"NMDS2\")\n",
    "plt.grid(True)\n",
    "plt.show()\n",
    "\n",
    "# Use the filter method provided by SampleMetadata\n",
    "valid_sample_names = full_dm_df.index.intersection(sample_metadata.ids()) # Ensure valid_sample_names are in sample_metadata ids\n",
    "filtered_sample_metadata = sample_metadata.filter(valid_sample_names)\n",
    "\n",
    "# Access the 'empo_1' column as a pandas Series for plotting\n",
    "empo_1_series = filtered_sample_metadata.get_column('empo_1').to_series()\n",
    "\n",
    "\n",
    "sns.scatterplot(x=nmds_coords[:, 0], y=nmds_coords[:, 1],\n",
    "                hue=empo_1_series, palette='Set2')\n",
    "plt.title(\"NMDS colored by empo_1\") # Updated title to reflect column name\n",
    "plt.xlabel(\"NMDS1\")\n",
    "plt.ylabel(\"NMDS2\")\n",
    "plt.legend()\n",
    "plt.grid(True)\n",
    "plt.show()"
   ]
  },
  {
   "cell_type": "markdown",
   "metadata": {
    "id": "cx1WOdeWm3Wx"
   },
   "source": [
    "...but that's not that interesting. Let's add some color. We're going to do this a couple of times so let's write a small function.\n",
    "\n",
    "**NOTE**: We also recommend [EMPeror](https://academic.oup.com/gigascience/article/2/1/2047-217X-2-16/2656132) for large scale visualization. It is compatible with the `OrdinationResults` object, supports interactive operation and various brushing options.  "
   ]
  },
  {
   "cell_type": "code",
   "execution_count": null,
   "metadata": {
    "id": "xrKx1hawli4i"
   },
   "outputs": [],
   "source": [
    "def pcoa_plot(ord_result, metadata, category, title=None):\n",
    "    plt.figure(figsize=(7, 7))\n",
    "\n",
    "    # adjust the point size based on the number of samples\n",
    "    if len(ord_result.samples) > 300:\n",
    "        s = 5\n",
    "    else:\n",
    "        s = 10\n",
    "\n",
    "    labels = []\n",
    "\n",
    "    ord_ids = set(ord_result.samples.index)\n",
    "    category_series = metadata.get_column(category).to_series()\n",
    "    for env in category_series.unique():\n",
    "        labels.append(env)\n",
    "\n",
    "        env_ids = metadata.get_ids(where=f\"[{category}] = '{env}'\")\n",
    "        env_ids = list(env_ids & ord_ids)\n",
    "\n",
    "        plt.scatter(ord_result.samples.loc[env_ids, 'PC1'],\n",
    "                    ord_result.samples.loc[env_ids, 'PC2'],\n",
    "                    s=s, alpha=0.75)\n",
    "    ax = plt.gca()\n",
    "    ax.set_xlabel(f'PC1 ({100 * (ord_result.proportion_explained[0]):.2f}%)')\n",
    "    ax.set_ylabel(f'PC2 ({100 * (ord_result.proportion_explained[1]):.2f}%)')\n",
    "    plt.legend(labels)\n",
    "    if title is not None:\n",
    "        plt.title(title)"
   ]
  },
  {
   "cell_type": "code",
   "execution_count": null,
   "metadata": {
    "colab": {
     "base_uri": "https://localhost:8080/",
     "height": 623
    },
    "executionInfo": {
     "elapsed": 508,
     "status": "ok",
     "timestamp": 1747750898453,
     "user": {
      "displayName": "Jeanett Daga",
      "userId": "07863803926035571979"
     },
     "user_tz": 180
    },
    "id": "17y4TAwpqYPy",
    "outputId": "ea49543c-951b-4795-d669-15ed694d1ab4"
   },
   "outputs": [
    {
     "data": {
      "image/png": "[encoded data removed]",
      "text/plain": [
       "<Figure size 700x700 with 1 Axes>"
      ]
     },
     "metadata": {},
     "output_type": "display_data"
    }
   ],
   "source": [
    "pcoa_plot(pc, metadata, 'empo_1')"
   ]
  },
  {
   "cell_type": "markdown",
   "metadata": {
    "id": "n95VoxSGnuJX"
   },
   "source": [
    "To support the above analyses, we will apply [PERMANOVA](https://onlinelibrary.wiley.com/doi/10.1111/j.1442-9993.2001.01070.pp.x) to the distances. PERMANOVA is a non-parametric analysis of variance. By default, PERMANOVA computes 999 permutations which is used to estimate the p-value."
   ]
  },
  {
   "cell_type": "code",
   "execution_count": null,
   "metadata": {
    "id": "8DzyzJ0aPHh5"
   },
   "outputs": [],
   "source": [
    "from skbio.stats.distance import permanova"
   ]
  },
  {
   "cell_type": "code",
   "execution_count": null,
   "metadata": {
    "colab": {
     "base_uri": "https://localhost:8080/",
     "height": 304
    },
    "executionInfo": {
     "elapsed": 403,
     "status": "ok",
     "timestamp": 1747758661078,
     "user": {
      "displayName": "Jeanett Daga",
      "userId": "07863803926035571979"
     },
     "user_tz": 180
    },
    "id": "mwUbIzRblvah",
    "outputId": "31a6898e-47b4-4909-9e37-7c0fa71c0cc3"
   },
   "outputs": [
    {
     "data": {
      "text/html": [
       "<div>\n",
       "<style scoped>\n",
       "    .dataframe tbody tr th:only-of-type {\n",
       "        vertical-align: middle;\n",
       "    }\n",
       "\n",
       "    .dataframe tbody tr th {\n",
       "        vertical-align: top;\n",
       "    }\n",
       "\n",
       "    .dataframe thead th {\n",
       "        text-align: right;\n",
       "    }\n",
       "</style>\n",
       "<table border=\"1\" class=\"dataframe\">\n",
       "  <thead>\n",
       "    <tr style=\"text-align: right;\">\n",
       "      <th></th>\n",
       "      <th>PERMANOVA results</th>\n",
       "    </tr>\n",
       "  </thead>\n",
       "  <tbody>\n",
       "    <tr>\n",
       "      <th>method name</th>\n",
       "      <td>PERMANOVA</td>\n",
       "    </tr>\n",
       "    <tr>\n",
       "      <th>test statistic name</th>\n",
       "      <td>pseudo-F</td>\n",
       "    </tr>\n",
       "    <tr>\n",
       "      <th>sample size</th>\n",
       "      <td>64</td>\n",
       "    </tr>\n",
       "    <tr>\n",
       "      <th>number of groups</th>\n",
       "      <td>2</td>\n",
       "    </tr>\n",
       "    <tr>\n",
       "      <th>test statistic</th>\n",
       "      <td>5.463305</td>\n",
       "    </tr>\n",
       "    <tr>\n",
       "      <th>p-value</th>\n",
       "      <td>0.001</td>\n",
       "    </tr>\n",
       "    <tr>\n",
       "      <th>number of permutations</th>\n",
       "      <td>999</td>\n",
       "    </tr>\n",
       "  </tbody>\n",
       "</table>\n",
       "</div><br><label><b>dtype:</b> object</label>"
      ],
      "text/plain": [
       "method name               PERMANOVA\n",
       "test statistic name        pseudo-F\n",
       "sample size                      64\n",
       "number of groups                  2\n",
       "test statistic             5.463305\n",
       "p-value                       0.001\n",
       "number of permutations          999\n",
       "Name: PERMANOVA results, dtype: object"
      ]
     },
     "execution_count": 131,
     "metadata": {},
     "output_type": "execute_result"
    }
   ],
   "source": [
    "permanova(full_dm, empo_1)\n",
    "#pseudo F is the same thanin Anova, If F is larger than 1, then the groups are different"
   ]
  },
  {
   "cell_type": "markdown",
   "metadata": {
    "id": "-K4N1V3OWKt1"
   },
   "source": [
    "## Exercise # 1 Generate a Unifrac visualization with empo_2"
   ]
  },
  {
   "cell_type": "code",
   "execution_count": null,
   "metadata": {
    "colab": {
     "base_uri": "https://localhost:8080/",
     "height": 607
    },
    "executionInfo": {
     "elapsed": 2503,
     "status": "ok",
     "timestamp": 1747758678742,
     "user": {
      "displayName": "Jeanett Daga",
      "userId": "07863803926035571979"
     },
     "user_tz": 180
    },
    "id": "yCZvXbW4Vwbe",
    "outputId": "a640515a-c7d6-4d72-dacc-40b3cd624dc2"
   },
   "outputs": [
    {
     "data": {
      "image/png": "[encoded data removed]",
      "text/plain": [
       "<Figure size 800x600 with 1 Axes>"
      ]
     },
     "metadata": {},
     "output_type": "display_data"
    }
   ],
   "source": [
    "# 6. Extraer matriz de datos\n",
    "# Transpose the data array to have shape (number of samples, number of features)\n",
    "data = tableShotgun.matrix_data.toarray().T  # Transpose the data array\n",
    "sample_ids = tableShotgun.ids(axis='sample')\n",
    "feature_ids = tableShotgun.ids(axis='observation') #This is the taxa argument\n",
    "\n",
    "# 7. Calcular UniFrac (no ponderado)\n",
    "unifrac_unweighted = beta_diversity(\n",
    "    metric='unweighted_unifrac',\n",
    "    counts=data,\n",
    "    ids=sample_ids,\n",
    "    tree=phylogeny,\n",
    "    taxa=feature_ids #Adding the taxa argument\n",
    ")\n",
    "\n",
    "# 8. PCoA\n",
    "pcoa_results = pcoa(unifrac_unweighted)\n",
    "df_coords = pcoa_results.samples\n",
    "df_coords['sample_id'] = df_coords.index\n",
    "\n",
    "# 9. Unir coordenadas con metadata\n",
    "merged = df_coords.join(LatamMeta_df, how='inner')\n",
    "\n",
    "# 10. Visualizar PCoA con color\n",
    "plt.figure(figsize=(8, 6))\n",
    "for variable, group in merged.groupby('empo_2'):\n",
    "    plt.scatter(group['PC1'], group['PC2'], label=variable)\n",
    "\n",
    "plt.xlabel(f\"PC1 ({round(pcoa_results.proportion_explained[0]*100, 1)}%)\")\n",
    "plt.ylabel(f\"PC2 ({round(pcoa_results.proportion_explained[1]*100, 1)}%)\")\n",
    "plt.title(\"PCoA (Unweighted UniFrac) - Latinoamérica\")\n",
    "plt.legend()\n",
    "plt.grid(True)\n",
    "plt.tight_layout()\n",
    "plt.show()\n"
   ]
  },
  {
   "cell_type": "markdown",
   "metadata": {
    "id": "FzUccto9RZb7"
   },
   "source": [
    "## Extra material. Incorporating phylogeny in Mantel test"
   ]
  },
  {
   "cell_type": "markdown",
   "metadata": {
    "id": "LvZPAazEWj3U"
   },
   "source": [
    "###Label your phylogeny"
   ]
  },
  {
   "cell_type": "code",
   "execution_count": null,
   "metadata": {
    "colab": {
     "base_uri": "https://localhost:8080/",
     "height": 238
    },
    "executionInfo": {
     "elapsed": 1202,
     "status": "ok",
     "timestamp": 1747750932887,
     "user": {
      "displayName": "Jeanett Daga",
      "userId": "07863803926035571979"
     },
     "user_tz": 180
    },
    "id": "jBwG1EEu7XxK",
    "outputId": "4620fe78-f512-40a6-e2b9-a51a059f2423"
   },
   "outputs": [
    {
     "data": {
      "application/vnd.google.colaboratory.intrinsic+json": {
       "summary": "{\n  \"name\": \"tax_df\",\n  \"rows\": 14933,\n  \"fields\": [\n    {\n      \"column\": 1,\n      \"properties\": {\n        \"dtype\": \"string\",\n        \"num_unique_values\": 12641,\n        \"samples\": [\n          \"d__Bacteria; p__Firmicutes_A; c__Clostridia; o__Christensenellales; f__MARSEILLE-P3954; g__MARSEILLE-P3954; s__MARSEILLE-P3954 sp900604345\",\n          \"d__Bacteria; p__Proteobacteria; c__Alphaproteobacteria; o__Rhizobiales_A; f__Rhizobiaceae_A; g__Bartonella; s__Bartonella rochalimae\",\n          \"d__Bacteria; p__Patescibacteria; c__Paceibacteria; o__UBA6257; f__2-01-FULL-56-20; g__CAIWCR01; s__\"\n        ],\n        \"semantic_type\": \"\",\n        \"description\": \"\"\n      }\n    }\n  ]\n}",
       "type": "dataframe",
       "variable_name": "tax_df"
      },
      "text/html": [
       "\n",
       "  <div id=\"df-a448b38c-49b7-405f-a23f-e3b90a818a48\" class=\"colab-df-container\">\n",
       "    <div>\n",
       "<style scoped>\n",
       "    .dataframe tbody tr th:only-of-type {\n",
       "        vertical-align: middle;\n",
       "    }\n",
       "\n",
       "    .dataframe tbody tr th {\n",
       "        vertical-align: top;\n",
       "    }\n",
       "\n",
       "    .dataframe thead th {\n",
       "        text-align: right;\n",
       "    }\n",
       "</style>\n",
       "<table border=\"1\" class=\"dataframe\">\n",
       "  <thead>\n",
       "    <tr style=\"text-align: right;\">\n",
       "      <th></th>\n",
       "      <th>1</th>\n",
       "    </tr>\n",
       "    <tr>\n",
       "      <th>0</th>\n",
       "      <th></th>\n",
       "    </tr>\n",
       "  </thead>\n",
       "  <tbody>\n",
       "    <tr>\n",
       "      <th>G000005825</th>\n",
       "      <td>d__Bacteria; p__Firmicutes; c__Bacilli; o__Bac...</td>\n",
       "    </tr>\n",
       "    <tr>\n",
       "      <th>G000006175</th>\n",
       "      <td>d__Archaea; p__Methanobacteriota_A; c__Methano...</td>\n",
       "    </tr>\n",
       "    <tr>\n",
       "      <th>G000006605</th>\n",
       "      <td>d__Bacteria; p__Actinobacteriota; c__Actinomyc...</td>\n",
       "    </tr>\n",
       "    <tr>\n",
       "      <th>G000006725</th>\n",
       "      <td>d__Bacteria; p__Proteobacteria; c__Gammaproteo...</td>\n",
       "    </tr>\n",
       "    <tr>\n",
       "      <th>G000006745</th>\n",
       "      <td>d__Bacteria; p__Proteobacteria; c__Gammaproteo...</td>\n",
       "    </tr>\n",
       "  </tbody>\n",
       "</table>\n",
       "</div>\n",
       "    <div class=\"colab-df-buttons\">\n",
       "\n",
       "  <div class=\"colab-df-container\">\n",
       "    <button class=\"colab-df-convert\" onclick=\"convertToInteractive('df-a448b38c-49b7-405f-a23f-e3b90a818a48')\"\n",
       "            title=\"Convert this dataframe to an interactive table.\"\n",
       "            style=\"display:none;\">\n",
       "\n",
       "  <svg xmlns=\"http://www.w3.org/2000/svg\" height=\"24px\" viewBox=\"0 -960 960 960\">\n",
       "    <path d=\"M120-120v-720h720v720H120Zm60-500h600v-160H180v160Zm220 220h160v-160H400v160Zm0 220h160v-160H400v160ZM180-400h160v-160H180v160Zm440 0h160v-160H620v160ZM180-180h160v-160H180v160Zm440 0h160v-160H620v160Z\"/>\n",
       "  </svg>\n",
       "    </button>\n",
       "\n",
       "  <style>\n",
       "    .colab-df-container {\n",
       "      display:flex;\n",
       "      gap: 12px;\n",
       "    }\n",
       "\n",
       "    .colab-df-convert {\n",
       "      background-color: #E8F0FE;\n",
       "      border: none;\n",
       "      border-radius: 50%;\n",
       "      cursor: pointer;\n",
       "      display: none;\n",
       "      fill: #1967D2;\n",
       "      height: 32px;\n",
       "      padding: 0 0 0 0;\n",
       "      width: 32px;\n",
       "    }\n",
       "\n",
       "    .colab-df-convert:hover {\n",
       "      background-color: #E2EBFA;\n",
       "      box-shadow: 0px 1px 2px rgba(60, 64, 67, 0.3), 0px 1px 3px 1px rgba(60, 64, 67, 0.15);\n",
       "      fill: #174EA6;\n",
       "    }\n",
       "\n",
       "    .colab-df-buttons div {\n",
       "      margin-bottom: 4px;\n",
       "    }\n",
       "\n",
       "    [theme=dark] .colab-df-convert {\n",
       "      background-color: #3B4455;\n",
       "      fill: #D2E3FC;\n",
       "    }\n",
       "\n",
       "    [theme=dark] .colab-df-convert:hover {\n",
       "      background-color: #434B5C;\n",
       "      box-shadow: 0px 1px 3px 1px rgba(0, 0, 0, 0.15);\n",
       "      filter: drop-shadow(0px 1px 2px rgba(0, 0, 0, 0.3));\n",
       "      fill: #FFFFFF;\n",
       "    }\n",
       "  </style>\n",
       "\n",
       "    <script>\n",
       "      const buttonEl =\n",
       "        document.querySelector('#df-a448b38c-49b7-405f-a23f-e3b90a818a48 button.colab-df-convert');\n",
       "      buttonEl.style.display =\n",
       "        google.colab.kernel.accessAllowed ? 'block' : 'none';\n",
       "\n",
       "      async function convertToInteractive(key) {\n",
       "        const element = document.querySelector('#df-a448b38c-49b7-405f-a23f-e3b90a818a48');\n",
       "        const dataTable =\n",
       "          await google.colab.kernel.invokeFunction('convertToInteractive',\n",
       "                                                    [key], {});\n",
       "        if (!dataTable) return;\n",
       "\n",
       "        const docLinkHtml = 'Like what you see? Visit the ' +\n",
       "          '<a target=\"_blank\" href=https://colab.research.google.com/notebooks/data_table.ipynb>data table notebook</a>'\n",
       "          + ' to learn more about interactive tables.';\n",
       "        element.innerHTML = '';\n",
       "        dataTable['output_type'] = 'display_data';\n",
       "        await google.colab.output.renderOutput(dataTable, element);\n",
       "        const docLink = document.createElement('div');\n",
       "        docLink.innerHTML = docLinkHtml;\n",
       "        element.appendChild(docLink);\n",
       "      }\n",
       "    </script>\n",
       "  </div>\n",
       "\n",
       "\n",
       "    <div id=\"df-8796a693-4c84-4efd-a947-e913e2196473\">\n",
       "      <button class=\"colab-df-quickchart\" onclick=\"quickchart('df-8796a693-4c84-4efd-a947-e913e2196473')\"\n",
       "                title=\"Suggest charts\"\n",
       "                style=\"display:none;\">\n",
       "\n",
       "<svg xmlns=\"http://www.w3.org/2000/svg\" height=\"24px\"viewBox=\"0 0 24 24\"\n",
       "     width=\"24px\">\n",
       "    <g>\n",
       "        <path d=\"M19 3H5c-1.1 0-2 .9-2 2v14c0 1.1.9 2 2 2h14c1.1 0 2-.9 2-2V5c0-1.1-.9-2-2-2zM9 17H7v-7h2v7zm4 0h-2V7h2v10zm4 0h-2v-4h2v4z\"/>\n",
       "    </g>\n",
       "</svg>\n",
       "      </button>\n",
       "\n",
       "<style>\n",
       "  .colab-df-quickchart {\n",
       "      --bg-color: #E8F0FE;\n",
       "      --fill-color: #1967D2;\n",
       "      --hover-bg-color: #E2EBFA;\n",
       "      --hover-fill-color: #174EA6;\n",
       "      --disabled-fill-color: #AAA;\n",
       "      --disabled-bg-color: #DDD;\n",
       "  }\n",
       "\n",
       "  [theme=dark] .colab-df-quickchart {\n",
       "      --bg-color: #3B4455;\n",
       "      --fill-color: #D2E3FC;\n",
       "      --hover-bg-color: #434B5C;\n",
       "      --hover-fill-color: #FFFFFF;\n",
       "      --disabled-bg-color: #3B4455;\n",
       "      --disabled-fill-color: #666;\n",
       "  }\n",
       "\n",
       "  .colab-df-quickchart {\n",
       "    background-color: var(--bg-color);\n",
       "    border: none;\n",
       "    border-radius: 50%;\n",
       "    cursor: pointer;\n",
       "    display: none;\n",
       "    fill: var(--fill-color);\n",
       "    height: 32px;\n",
       "    padding: 0;\n",
       "    width: 32px;\n",
       "  }\n",
       "\n",
       "  .colab-df-quickchart:hover {\n",
       "    background-color: var(--hover-bg-color);\n",
       "    box-shadow: 0 1px 2px rgba(60, 64, 67, 0.3), 0 1px 3px 1px rgba(60, 64, 67, 0.15);\n",
       "    fill: var(--button-hover-fill-color);\n",
       "  }\n",
       "\n",
       "  .colab-df-quickchart-complete:disabled,\n",
       "  .colab-df-quickchart-complete:disabled:hover {\n",
       "    background-color: var(--disabled-bg-color);\n",
       "    fill: var(--disabled-fill-color);\n",
       "    box-shadow: none;\n",
       "  }\n",
       "\n",
       "  .colab-df-spinner {\n",
       "    border: 2px solid var(--fill-color);\n",
       "    border-color: transparent;\n",
       "    border-bottom-color: var(--fill-color);\n",
       "    animation:\n",
       "      spin 1s steps(1) infinite;\n",
       "  }\n",
       "\n",
       "  @keyframes spin {\n",
       "    0% {\n",
       "      border-color: transparent;\n",
       "      border-bottom-color: var(--fill-color);\n",
       "      border-left-color: var(--fill-color);\n",
       "    }\n",
       "    20% {\n",
       "      border-color: transparent;\n",
       "      border-left-color: var(--fill-color);\n",
       "      border-top-color: var(--fill-color);\n",
       "    }\n",
       "    30% {\n",
       "      border-color: transparent;\n",
       "      border-left-color: var(--fill-color);\n",
       "      border-top-color: var(--fill-color);\n",
       "      border-right-color: var(--fill-color);\n",
       "    }\n",
       "    40% {\n",
       "      border-color: transparent;\n",
       "      border-right-color: var(--fill-color);\n",
       "      border-top-color: var(--fill-color);\n",
       "    }\n",
       "    60% {\n",
       "      border-color: transparent;\n",
       "      border-right-color: var(--fill-color);\n",
       "    }\n",
       "    80% {\n",
       "      border-color: transparent;\n",
       "      border-right-color: var(--fill-color);\n",
       "      border-bottom-color: var(--fill-color);\n",
       "    }\n",
       "    90% {\n",
       "      border-color: transparent;\n",
       "      border-bottom-color: var(--fill-color);\n",
       "    }\n",
       "  }\n",
       "</style>\n",
       "\n",
       "      <script>\n",
       "        async function quickchart(key) {\n",
       "          const quickchartButtonEl =\n",
       "            document.querySelector('#' + key + ' button');\n",
       "          quickchartButtonEl.disabled = true;  // To prevent multiple clicks.\n",
       "          quickchartButtonEl.classList.add('colab-df-spinner');\n",
       "          try {\n",
       "            const charts = await google.colab.kernel.invokeFunction(\n",
       "                'suggestCharts', [key], {});\n",
       "          } catch (error) {\n",
       "            console.error('Error during call to suggestCharts:', error);\n",
       "          }\n",
       "          quickchartButtonEl.classList.remove('colab-df-spinner');\n",
       "          quickchartButtonEl.classList.add('colab-df-quickchart-complete');\n",
       "        }\n",
       "        (() => {\n",
       "          let quickchartButtonEl =\n",
       "            document.querySelector('#df-8796a693-4c84-4efd-a947-e913e2196473 button');\n",
       "          quickchartButtonEl.style.display =\n",
       "            google.colab.kernel.accessAllowed ? 'block' : 'none';\n",
       "        })();\n",
       "      </script>\n",
       "    </div>\n",
       "\n",
       "    </div>\n",
       "  </div>\n"
      ],
      "text/plain": [
       "                                                            1\n",
       "0                                                            \n",
       "G000005825  d__Bacteria; p__Firmicutes; c__Bacilli; o__Bac...\n",
       "G000006175  d__Archaea; p__Methanobacteriota_A; c__Methano...\n",
       "G000006605  d__Bacteria; p__Actinobacteriota; c__Actinomyc...\n",
       "G000006725  d__Bacteria; p__Proteobacteria; c__Gammaproteo...\n",
       "G000006745  d__Bacteria; p__Proteobacteria; c__Gammaproteo..."
      ]
     },
     "execution_count": 39,
     "metadata": {},
     "output_type": "execute_result"
    }
   ],
   "source": [
    "# prompt: generate the metadata path by joining github_data_path with \"emp500/sample.tsv\"\n",
    "latamtax_path = github_data_path + \"shotgun/latam_ogu.tax\"\n",
    "# Read the TSV file directly from the URL into a pandas DataFrame\n",
    "tax_df = pd.read_csv(latamtax_path, sep='\\t', low_memory=False, header=None,index_col=0)\n",
    "taxonomy_dict = tax_df[1].to_dict()\n",
    "tax_df.head()"
   ]
  },
  {
   "cell_type": "code",
   "execution_count": null,
   "metadata": {
    "colab": {
     "base_uri": "https://localhost:8080/"
    },
    "executionInfo": {
     "elapsed": 24,
     "status": "ok",
     "timestamp": 1747750936104,
     "user": {
      "displayName": "Jeanett Daga",
      "userId": "07863803926035571979"
     },
     "user_tz": 180
    },
    "id": "Bcfr_v_IAxES",
    "outputId": "038ccdd6-04e7-4ad2-da22-d605dbf1507d"
   },
   "outputs": [
    {
     "name": "stdout",
     "output_type": "stream",
     "text": [
      "G000005825: d__Bacteria; p__Firmicutes; c__Bacilli; o__Bacillales_H; f__Bacillaceae_D; g__Bacillus_S; s__Bacillus_S pseudofirmus\n",
      "G000006175: d__Archaea; p__Methanobacteriota_A; c__Methanococci; o__Methanococcales; f__Methanococcaceae; g__Methanococcus; s__Methanococcus voltae_A\n",
      "G000006605: d__Bacteria; p__Actinobacteriota; c__Actinomycetia; o__Mycobacteriales; f__Mycobacteriaceae; g__Corynebacterium; s__Corynebacterium jeikeium\n",
      "G000006725: d__Bacteria; p__Proteobacteria; c__Gammaproteobacteria; o__Xanthomonadales; f__Xanthomonadaceae; g__Xylella; s__Xylella fastidiosa\n",
      "G000006745: d__Bacteria; p__Proteobacteria; c__Gammaproteobacteria; o__Enterobacterales; f__Vibrionaceae; g__Vibrio; s__Vibrio cholerae\n"
     ]
    }
   ],
   "source": [
    "# prompt: print first 5 elements on phylum_dict\n",
    "\n",
    "from itertools import islice\n",
    "for key, value in islice(taxonomy_dict.items(), 5):\n",
    "    print(f'{key}: {value}')"
   ]
  },
  {
   "cell_type": "code",
   "execution_count": null,
   "metadata": {
    "colab": {
     "base_uri": "https://localhost:8080/",
     "height": 211
    },
    "executionInfo": {
     "elapsed": 40,
     "status": "error",
     "timestamp": 1747750941019,
     "user": {
      "displayName": "Jeanett Daga",
      "userId": "07863803926035571979"
     },
     "user_tz": 180
    },
    "id": "5hU3lfKpD461",
    "outputId": "bfb85c13-0d97-4da4-ccf0-51ee7c7d738c"
   },
   "outputs": [
    {
     "ename": "NameError",
     "evalue": "name 'labeled_phylogeny' is not defined",
     "output_type": "error",
     "traceback": [
      "\u001b[0;31m---------------------------------------------------------------------------\u001b[0m",
      "\u001b[0;31mNameError\u001b[0m                                 Traceback (most recent call last)",
      "\u001b[0;32m<ipython-input-42-7111e323679d>\u001b[0m in \u001b[0;36m<cell line: 0>\u001b[0;34m()\u001b[0m\n\u001b[1;32m      1\u001b[0m \u001b[0;31m# --- Step 3: Attach taxonomy to tips ---\u001b[0m\u001b[0;34m\u001b[0m\u001b[0;34m\u001b[0m\u001b[0m\n\u001b[0;32m----> 2\u001b[0;31m \u001b[0;32mfor\u001b[0m \u001b[0mtip\u001b[0m \u001b[0;32min\u001b[0m \u001b[0mlabeled_phylogeny\u001b[0m\u001b[0;34m.\u001b[0m\u001b[0mtips\u001b[0m\u001b[0;34m(\u001b[0m\u001b[0;34m)\u001b[0m\u001b[0;34m:\u001b[0m\u001b[0;34m\u001b[0m\u001b[0;34m\u001b[0m\u001b[0m\n\u001b[0m\u001b[1;32m      3\u001b[0m     \u001b[0;31m#print(tip.name)\u001b[0m\u001b[0;34m\u001b[0m\u001b[0;34m\u001b[0m\u001b[0m\n\u001b[1;32m      4\u001b[0m     \u001b[0;32mif\u001b[0m \u001b[0mtip\u001b[0m\u001b[0;34m.\u001b[0m\u001b[0mname\u001b[0m \u001b[0;32min\u001b[0m \u001b[0mtaxonomy_dict\u001b[0m\u001b[0;34m:\u001b[0m\u001b[0;34m\u001b[0m\u001b[0;34m\u001b[0m\u001b[0m\n\u001b[1;32m      5\u001b[0m         \u001b[0mlineage\u001b[0m \u001b[0;34m=\u001b[0m \u001b[0;34m[\u001b[0m\u001b[0mlevel\u001b[0m\u001b[0;34m.\u001b[0m\u001b[0mstrip\u001b[0m\u001b[0;34m(\u001b[0m\u001b[0;34m)\u001b[0m \u001b[0;32mfor\u001b[0m \u001b[0mlevel\u001b[0m \u001b[0;32min\u001b[0m \u001b[0mtaxonomy_dict\u001b[0m\u001b[0;34m[\u001b[0m\u001b[0mtip\u001b[0m\u001b[0;34m.\u001b[0m\u001b[0mname\u001b[0m\u001b[0;34m]\u001b[0m\u001b[0;34m.\u001b[0m\u001b[0msplit\u001b[0m\u001b[0;34m(\u001b[0m\u001b[0;34m';'\u001b[0m\u001b[0;34m)\u001b[0m\u001b[0;34m]\u001b[0m\u001b[0;34m\u001b[0m\u001b[0;34m\u001b[0m\u001b[0m\n",
      "\u001b[0;31mNameError\u001b[0m: name 'labeled_phylogeny' is not defined"
     ]
    }
   ],
   "source": [
    "# --- Step 3: Attach taxonomy to tips ---\n",
    "for tip in labeled_phylogeny.tips():\n",
    "    #print(tip.name)\n",
    "    if tip.name in taxonomy_dict:\n",
    "        lineage = [level.strip() for level in taxonomy_dict[tip.name].split(';')]\n",
    "        #print(lineage)\n",
    "        tip.lineage = lineage  # store it as a custom attribute\n",
    "        #print(tip.lineage)\n",
    "\n",
    "    else:\n",
    "        tip.lineage = []"
   ]
  },
  {
   "cell_type": "code",
   "execution_count": null,
   "metadata": {
    "colab": {
     "base_uri": "https://localhost:8080/",
     "height": 176
    },
    "executionInfo": {
     "elapsed": 36,
     "status": "error",
     "timestamp": 1747750946388,
     "user": {
      "displayName": "Jeanett Daga",
      "userId": "07863803926035571979"
     },
     "user_tz": 180
    },
    "id": "sWmc-vO8EcsH",
    "outputId": "6e0ebe0c-4fc2-4823-aad5-64d654a87163"
   },
   "outputs": [
    {
     "ename": "NameError",
     "evalue": "name 'labeled_phylogeny' is not defined",
     "output_type": "error",
     "traceback": [
      "\u001b[0;31m---------------------------------------------------------------------------\u001b[0m",
      "\u001b[0;31mNameError\u001b[0m                                 Traceback (most recent call last)",
      "\u001b[0;32m<ipython-input-44-00294f5e4088>\u001b[0m in \u001b[0;36m<cell line: 0>\u001b[0;34m()\u001b[0m\n\u001b[1;32m     19\u001b[0m     \u001b[0;32mreturn\u001b[0m \u001b[0mcommon\u001b[0m\u001b[0;34m\u001b[0m\u001b[0;34m\u001b[0m\u001b[0m\n\u001b[1;32m     20\u001b[0m \u001b[0;34m\u001b[0m\u001b[0m\n\u001b[0;32m---> 21\u001b[0;31m \u001b[0massign_taxonomy\u001b[0m\u001b[0;34m(\u001b[0m\u001b[0mlabeled_phylogeny\u001b[0m\u001b[0;34m)\u001b[0m\u001b[0;34m\u001b[0m\u001b[0;34m\u001b[0m\u001b[0m\n\u001b[0m",
      "\u001b[0;31mNameError\u001b[0m: name 'labeled_phylogeny' is not defined"
     ]
    }
   ],
   "source": [
    "# --- Step 4: Recursively assign taxonomy to internal nodes ---\n",
    "def assign_taxonomy(node):\n",
    "    if node.is_tip():\n",
    "        return node.lineage\n",
    "\n",
    "    child_lineages = [assign_taxonomy(child) for child in node.children]\n",
    "\n",
    "    # Find shared lineage prefix\n",
    "    common = []\n",
    "    for levels in zip(*child_lineages):\n",
    "        if all(l == levels[0] for l in levels):\n",
    "            common.append(levels[0])\n",
    "        else:\n",
    "            break\n",
    "\n",
    "    node.lineage = common\n",
    "    if common:\n",
    "        node.name = common[-1]  # Assign the most specific shared level\n",
    "    return common\n",
    "\n",
    "assign_taxonomy(labeled_phylogeny)"
   ]
  },
  {
   "cell_type": "code",
   "execution_count": null,
   "metadata": {
    "colab": {
     "base_uri": "https://localhost:8080/",
     "height": 211
    },
    "executionInfo": {
     "elapsed": 45,
     "status": "error",
     "timestamp": 1747750949011,
     "user": {
      "displayName": "Jeanett Daga",
      "userId": "07863803926035571979"
     },
     "user_tz": 180
    },
    "id": "Rns5J4oXNp6y",
    "outputId": "4887d359-c58a-4736-a014-5acf11b8e1d9"
   },
   "outputs": [
    {
     "ename": "NameError",
     "evalue": "name 'labeled_phylogeny' is not defined",
     "output_type": "error",
     "traceback": [
      "\u001b[0;31m---------------------------------------------------------------------------\u001b[0m",
      "\u001b[0;31mNameError\u001b[0m                                 Traceback (most recent call last)",
      "\u001b[0;32m<ipython-input-45-864830be1ec5>\u001b[0m in \u001b[0;36m<cell line: 0>\u001b[0;34m()\u001b[0m\n\u001b[1;32m      3\u001b[0m \u001b[0;31m# Get Newick string\u001b[0m\u001b[0;34m\u001b[0m\u001b[0;34m\u001b[0m\u001b[0m\n\u001b[1;32m      4\u001b[0m \u001b[0moutput\u001b[0m \u001b[0;34m=\u001b[0m \u001b[0mStringIO\u001b[0m\u001b[0;34m(\u001b[0m\u001b[0;34m)\u001b[0m\u001b[0;34m\u001b[0m\u001b[0;34m\u001b[0m\u001b[0m\n\u001b[0;32m----> 5\u001b[0;31m \u001b[0mlabeled_phylogeny\u001b[0m\u001b[0;34m.\u001b[0m\u001b[0mwrite\u001b[0m\u001b[0;34m(\u001b[0m\u001b[0moutput\u001b[0m\u001b[0;34m,\u001b[0m \u001b[0mformat\u001b[0m\u001b[0;34m=\u001b[0m\u001b[0;34m'newick'\u001b[0m\u001b[0;34m)\u001b[0m\u001b[0;34m\u001b[0m\u001b[0;34m\u001b[0m\u001b[0m\n\u001b[0m\u001b[1;32m      6\u001b[0m \u001b[0mnewick_str\u001b[0m \u001b[0;34m=\u001b[0m \u001b[0moutput\u001b[0m\u001b[0;34m.\u001b[0m\u001b[0mgetvalue\u001b[0m\u001b[0;34m(\u001b[0m\u001b[0;34m)\u001b[0m\u001b[0;34m\u001b[0m\u001b[0;34m\u001b[0m\u001b[0m\n\u001b[1;32m      7\u001b[0m \u001b[0mprint\u001b[0m\u001b[0;34m(\u001b[0m\u001b[0mnewick_str\u001b[0m\u001b[0;34m)\u001b[0m\u001b[0;34m\u001b[0m\u001b[0;34m\u001b[0m\u001b[0m\n",
      "\u001b[0;31mNameError\u001b[0m: name 'labeled_phylogeny' is not defined"
     ]
    }
   ],
   "source": [
    "\n",
    "\n",
    "from io import StringIO\n",
    "\n",
    "# Get Newick string\n",
    "output = StringIO()\n",
    "labeled_phylogeny.write(output, format='newick')\n",
    "newick_str = output.getvalue()\n",
    "print(newick_str)"
   ]
  },
  {
   "cell_type": "code",
   "execution_count": null,
   "metadata": {
    "colab": {
     "base_uri": "https://localhost:8080/",
     "height": 211
    },
    "executionInfo": {
     "elapsed": 34,
     "status": "error",
     "timestamp": 1747750950807,
     "user": {
      "displayName": "Jeanett Daga",
      "userId": "07863803926035571979"
     },
     "user_tz": 180
    },
    "id": "TJHaec8M9KB4",
    "outputId": "7f488119-4a9b-4b3f-e7aa-a790eb58efe4"
   },
   "outputs": [
    {
     "ename": "NameError",
     "evalue": "name 'labeled_phylogeny' is not defined",
     "output_type": "error",
     "traceback": [
      "\u001b[0;31m---------------------------------------------------------------------------\u001b[0m",
      "\u001b[0;31mNameError\u001b[0m                                 Traceback (most recent call last)",
      "\u001b[0;32m<ipython-input-46-2ce772410d06>\u001b[0m in \u001b[0;36m<cell line: 0>\u001b[0;34m()\u001b[0m\n\u001b[1;32m      2\u001b[0m \u001b[0;34m\u001b[0m\u001b[0m\n\u001b[1;32m      3\u001b[0m \u001b[0;31m# Iterate through all nodes in the tree\u001b[0m\u001b[0;34m\u001b[0m\u001b[0;34m\u001b[0m\u001b[0m\n\u001b[0;32m----> 4\u001b[0;31m \u001b[0;32mfor\u001b[0m \u001b[0mnode\u001b[0m \u001b[0;32min\u001b[0m \u001b[0mlabeled_phylogeny\u001b[0m\u001b[0;34m.\u001b[0m\u001b[0mlevelorder\u001b[0m\u001b[0;34m(\u001b[0m\u001b[0minclude_self\u001b[0m\u001b[0;34m=\u001b[0m\u001b[0;32mTrue\u001b[0m\u001b[0;34m)\u001b[0m\u001b[0;34m:\u001b[0m\u001b[0;34m\u001b[0m\u001b[0;34m\u001b[0m\u001b[0m\n\u001b[0m\u001b[1;32m      5\u001b[0m     \u001b[0;31m# Check if the node name contains the substring and is not equal to the substring\u001b[0m\u001b[0;34m\u001b[0m\u001b[0;34m\u001b[0m\u001b[0m\n\u001b[1;32m      6\u001b[0m     \u001b[0;32mif\u001b[0m \u001b[0;34m'G000315565'\u001b[0m \u001b[0;32min\u001b[0m \u001b[0mnode\u001b[0m\u001b[0;34m.\u001b[0m\u001b[0mname\u001b[0m\u001b[0;34m:\u001b[0m \u001b[0;31m#and node.name != 'G000006605':\u001b[0m\u001b[0;34m\u001b[0m\u001b[0;34m\u001b[0m\u001b[0m\n",
      "\u001b[0;31mNameError\u001b[0m: name 'labeled_phylogeny' is not defined"
     ]
    }
   ],
   "source": [
    "# prompt: find in tree a name that contain G000006605 but is not equal to G000006605\n",
    "\n",
    "# Iterate through all nodes in the tree\n",
    "for node in labeled_phylogeny.levelorder(include_self=True):\n",
    "    # Check if the node name contains the substring and is not equal to the substring\n",
    "    if 'G000315565' in node.name: #and node.name != 'G000006605':\n",
    "      #phylum = taxonomy.split(\";\")[1].strip()\n",
    "      print(node.name)\n"
   ]
  },
  {
   "cell_type": "code",
   "execution_count": null,
   "metadata": {
    "colab": {
     "base_uri": "https://localhost:8080/",
     "height": 159
    },
    "executionInfo": {
     "elapsed": 24,
     "status": "error",
     "timestamp": 1747750953492,
     "user": {
      "displayName": "Jeanett Daga",
      "userId": "07863803926035571979"
     },
     "user_tz": 180
    },
    "id": "bnWMY-O4k61s",
    "outputId": "d9b064db-d194-4f72-cb50-ff486b189630"
   },
   "outputs": [
    {
     "ename": "NameError",
     "evalue": "name 'labeled_phylogeny' is not defined",
     "output_type": "error",
     "traceback": [
      "\u001b[0;31m---------------------------------------------------------------------------\u001b[0m",
      "\u001b[0;31mNameError\u001b[0m                                 Traceback (most recent call last)",
      "\u001b[0;32m<ipython-input-47-fd23bf8561e6>\u001b[0m in \u001b[0;36m<cell line: 0>\u001b[0;34m()\u001b[0m\n\u001b[0;32m----> 1\u001b[0;31m \u001b[0mlabeled_phylogeny\u001b[0m\u001b[0;34m\u001b[0m\u001b[0;34m\u001b[0m\u001b[0m\n\u001b[0m\u001b[1;32m      2\u001b[0m \u001b[0mprint\u001b[0m\u001b[0;34m(\u001b[0m\u001b[0mlabeled_phylogeny\u001b[0m\u001b[0;34m.\u001b[0m\u001b[0mfind\u001b[0m\u001b[0;34m(\u001b[0m\u001b[0;34m'G000315565'\u001b[0m\u001b[0;34m)\u001b[0m\u001b[0;34m.\u001b[0m\u001b[0mparent\u001b[0m\u001b[0;34m.\u001b[0m\u001b[0mparent\u001b[0m\u001b[0;34m.\u001b[0m\u001b[0mascii_art\u001b[0m\u001b[0;34m(\u001b[0m\u001b[0;34m)\u001b[0m\u001b[0;34m)\u001b[0m\u001b[0;34m\u001b[0m\u001b[0;34m\u001b[0m\u001b[0m\n",
      "\u001b[0;31mNameError\u001b[0m: name 'labeled_phylogeny' is not defined"
     ]
    }
   ],
   "source": [
    "labeled_phylogeny\n",
    "print(labeled_phylogeny.find('G000315565').parent.parent.ascii_art())"
   ]
  },
  {
   "cell_type": "markdown",
   "metadata": {
    "id": "zp5OO5ABXcbE"
   },
   "source": []
  },
  {
   "cell_type": "markdown",
   "metadata": {
    "id": "qcxJNAAuPHh5"
   },
   "source": [
    "### Incorporating phylogeny"
   ]
  },
  {
   "cell_type": "markdown",
   "metadata": {
    "id": "YdBZgroto5PE"
   },
   "source": [
    "Now, let's tinker.\n",
    "\n",
    "We might wonder whether the sample-to-sample relationships are consistent when constrained to particular phyla.\n",
    "\n",
    "To do this, we're going to aggregate sample information up the phylogeny (from tip to root). Specifically, we are going to determine the set of samples a feature is present in, and then push the unique sample IDs up the tree through a postorder traversal, effecively reducing the information.\n",
    "\n",
    "While doing so, we are also going to cache the names of the features found within a clade simply to facilitate filtering later on.\n",
    "\n"
   ]
  },
  {
   "cell_type": "code",
   "execution_count": null,
   "metadata": {
    "id": "dAPS1_v6lEVZ"
   },
   "outputs": [],
   "source": [
    "\n",
    "\n",
    "\n"
   ]
  },
  {
   "cell_type": "code",
   "execution_count": null,
   "metadata": {
    "colab": {
     "base_uri": "https://localhost:8080/"
    },
    "executionInfo": {
     "elapsed": 926,
     "status": "ok",
     "timestamp": 1747758771137,
     "user": {
      "displayName": "Jeanett Daga",
      "userId": "07863803926035571979"
     },
     "user_tz": 180
    },
    "id": "-En5Q2LSCGb7",
    "outputId": "e40de766-d493-4069-8c78-4f353c3c5347"
   },
   "outputs": [
    {
     "data": {
      "text/plain": [
       "<TreeNode, name: N1, internal node count: 14326, tips count: 14933>"
      ]
     },
     "execution_count": 133,
     "metadata": {},
     "output_type": "execute_result"
    }
   ],
   "source": [
    "latamtree_path = github_data_path + \"latam/shotgun/latam_ogu.nwk\"\n",
    "labeled_phylogeny = skbio.TreeNode.read(latamtree_path, format='newick')\n",
    "labeled_phylogeny"
   ]
  },
  {
   "cell_type": "markdown",
   "metadata": {
    "id": "bK9Bcb_HUPqo"
   },
   "source": [
    "Postorder means children are assured to be evaluted before parents. The TreeNode supports many types of traversals, and pleasant examples of common traversals can be found on [Wikipedia](https://en.wikipedia.org/wiki/Tree_traversal). Here, we will decorate these new attributes onto the tree.\n",
    "\n",
    "The algorithm is:\n",
    "1. if the object being evaluated is a tip\n",
    "* get the samples represented (or the empty set)\n",
    "* construct a set composed of only the feature name\n",
    "2. else the object must be an internal node\n",
    "* compute the set union of samples represented\n",
    "* compute the set union of features represented"
   ]
  },
  {
   "cell_type": "code",
   "execution_count": null,
   "metadata": {
    "id": "aYQ8_lXnPHh-"
   },
   "outputs": [],
   "source": [
    "from functools import reduce\n",
    "from operator import or_"
   ]
  },
  {
   "cell_type": "code",
   "execution_count": null,
   "metadata": {
    "id": "rC2vFgbQrguK"
   },
   "outputs": [],
   "source": [
    "sample_ids = even_table.ids()\n",
    "\n",
    "# this complex dict comprehension maps a feature ID to the set of\n",
    "# samples that feature was found it. The v.indices attribute is the\n",
    "# index positions of the nonzero values within a SciPy sparse vector\n",
    "samples_represented = {id_: set(sample_ids[v.indices])\n",
    "                       for v, id_, _ in even_table.iter(axis='observation', dense=False)}"
   ]
  },
  {
   "cell_type": "code",
   "execution_count": null,
   "metadata": {
    "id": "SFlL4vaCrgqH"
   },
   "outputs": [],
   "source": [
    "for node in labeled_phylogeny.postorder():\n",
    "    if node.is_tip():\n",
    "        node.samples_represented = samples_represented.get(node.name, set())\n",
    "        node.tips_represented = {node.name, }\n",
    "    else:\n",
    "        node.samples_represented = reduce(or_, [child.samples_represented for child in node.children])\n",
    "        node.tips_represented = reduce(or_, [child.tips_represented for child in node.children])"
   ]
  },
  {
   "cell_type": "markdown",
   "metadata": {
    "id": "Wy3MiPrNPHh_"
   },
   "source": [
    "Let's spot check what the representation is at the domain level."
   ]
  },
  {
   "cell_type": "code",
   "execution_count": null,
   "metadata": {
    "colab": {
     "base_uri": "https://localhost:8080/"
    },
    "executionInfo": {
     "elapsed": 16,
     "status": "ok",
     "timestamp": 1747759247313,
     "user": {
      "displayName": "Jeanett Daga",
      "userId": "07863803926035571979"
     },
     "user_tz": 180
    },
    "id": "m-jTAJhYrgkQ",
    "outputId": "9ee8b4d5-2b72-4002-ba8a-8c0e79293f95"
   },
   "outputs": [
    {
     "name": "stdout",
     "output_type": "stream",
     "text": [
      "Samples with N2: 63\n",
      "Samples with N3: 64\n"
     ]
    }
   ],
   "source": [
    "for child in labeled_phylogeny.children:\n",
    "    print(f\"Samples with {child.name}: {len(child.samples_represented)}\")"
   ]
  },
  {
   "cell_type": "markdown",
   "metadata": {
    "id": "8AZBR29tUrRd"
   },
   "source": [
    "Next, let's gather all phylum level named nodes (p__), sort them by how many samples are represented, and print the top few"
   ]
  },
  {
   "cell_type": "code",
   "execution_count": null,
   "metadata": {
    "id": "3-vdEN7MPHh_"
   },
   "outputs": [],
   "source": [
    "from operator import itemgetter"
   ]
  },
  {
   "cell_type": "code",
   "execution_count": null,
   "metadata": {
    "id": "PjOXvL9jIhOw"
   },
   "outputs": [],
   "source": [
    "for n in labeled_phylogeny.traverse():\n",
    "  if n.name is not None and n.name.startswith('p__'):\n",
    "    print(n.name)"
   ]
  },
  {
   "cell_type": "code",
   "execution_count": null,
   "metadata": {
    "id": "k7xxaa22rgcV"
   },
   "outputs": [],
   "source": [
    "named_nodes = [(n.name, len(n.samples_represented), n)\n",
    "               for n in labeled_phylogeny.traverse()\n",
    "               if n.name is not None and n.name.startswith('p__')]\n",
    "\n",
    "named_nodes = sorted(named_nodes, key=itemgetter(1), reverse=True)\n",
    "for name, count, _ in named_nodes[:10]:\n",
    "    print(f\"Samples with {name}: {count}\")"
   ]
  },
  {
   "cell_type": "code",
   "execution_count": null,
   "metadata": {
    "colab": {
     "base_uri": "https://localhost:8080/",
     "height": 141
    },
    "executionInfo": {
     "elapsed": 13,
     "status": "error",
     "timestamp": 1747751000395,
     "user": {
      "displayName": "Jeanett Daga",
      "userId": "07863803926035571979"
     },
     "user_tz": 180
    },
    "id": "grgWJsjzbMoM",
    "outputId": "948192a8-a176-4976-8f19-c5b179f34e1a"
   },
   "outputs": [
    {
     "ename": "NameError",
     "evalue": "name 'named_nodes' is not defined",
     "output_type": "error",
     "traceback": [
      "\u001b[0;31m---------------------------------------------------------------------------\u001b[0m",
      "\u001b[0;31mNameError\u001b[0m                                 Traceback (most recent call last)",
      "\u001b[0;32m<ipython-input-55-e3b54ae09c52>\u001b[0m in \u001b[0;36m<cell line: 0>\u001b[0;34m()\u001b[0m\n\u001b[0;32m----> 1\u001b[0;31m \u001b[0mnamed_nodes\u001b[0m\u001b[0;34m\u001b[0m\u001b[0;34m\u001b[0m\u001b[0m\n\u001b[0m",
      "\u001b[0;31mNameError\u001b[0m: name 'named_nodes' is not defined"
     ]
    }
   ],
   "source": [
    "named_nodes"
   ]
  },
  {
   "cell_type": "code",
   "execution_count": null,
   "metadata": {
    "id": "A39vNj4MpB-n"
   },
   "outputs": [],
   "source": [
    "# A helper function to intersect a table with the features represented by a node\n",
    "\n",
    "def intersect_with_node(tab, node):\n",
    "    tips_in_table = set(tab.ids(axis='observation'))\n",
    "    tipset = node.tips_represented & tips_in_table\n",
    "    return tab.filter(tipset, axis='observation', inplace=False).remove_empty()"
   ]
  },
  {
   "cell_type": "markdown",
   "metadata": {
    "id": "XmyM8QYTUwm1"
   },
   "source": [
    "Now we will take two interesting sets. While testing this notebook, it was noted the number of sample IDs in common between Proteobacteria and Firmicutes_D, after rarefaction, was relatively low. So instead, let's look at Proteobacteria and Bacteroidota.\n",
    "\n",
    "The next few cells filter the feature table to each phyla of focus, constrain them to the exact same set of IDs, compute UniFrac again, and then principal coordinates."
   ]
  },
  {
   "cell_type": "code",
   "execution_count": null,
   "metadata": {
    "colab": {
     "base_uri": "https://localhost:8080/",
     "height": 176
    },
    "executionInfo": {
     "elapsed": 29,
     "status": "error",
     "timestamp": 1747751003037,
     "user": {
      "displayName": "Jeanett Daga",
      "userId": "07863803926035571979"
     },
     "user_tz": 180
    },
    "id": "g_1lZQCNpLVj",
    "outputId": "7929f896-1aac-4d5a-892f-845050b47bfa"
   },
   "outputs": [
    {
     "ename": "NameError",
     "evalue": "name 'named_nodes' is not defined",
     "output_type": "error",
     "traceback": [
      "\u001b[0;31m---------------------------------------------------------------------------\u001b[0m",
      "\u001b[0;31mNameError\u001b[0m                                 Traceback (most recent call last)",
      "\u001b[0;32m<ipython-input-56-f7cd5cf58b48>\u001b[0m in \u001b[0;36m<cell line: 0>\u001b[0;34m()\u001b[0m\n\u001b[0;32m----> 1\u001b[0;31m \u001b[0mfirst_name\u001b[0m\u001b[0;34m,\u001b[0m \u001b[0m_\u001b[0m\u001b[0;34m,\u001b[0m \u001b[0mfirst_node\u001b[0m \u001b[0;34m=\u001b[0m \u001b[0mnamed_nodes\u001b[0m\u001b[0;34m[\u001b[0m\u001b[0;36m0\u001b[0m\u001b[0;34m]\u001b[0m\u001b[0;34m\u001b[0m\u001b[0;34m\u001b[0m\u001b[0m\n\u001b[0m\u001b[1;32m      2\u001b[0m \u001b[0msecond_name\u001b[0m\u001b[0;34m,\u001b[0m \u001b[0m_\u001b[0m\u001b[0;34m,\u001b[0m \u001b[0msecond_node\u001b[0m \u001b[0;34m=\u001b[0m \u001b[0mnamed_nodes\u001b[0m\u001b[0;34m[\u001b[0m\u001b[0;36m2\u001b[0m\u001b[0;34m]\u001b[0m\u001b[0;34m\u001b[0m\u001b[0;34m\u001b[0m\u001b[0m\n\u001b[1;32m      3\u001b[0m \u001b[0;34m\u001b[0m\u001b[0m\n",
      "\u001b[0;31mNameError\u001b[0m: name 'named_nodes' is not defined"
     ]
    }
   ],
   "source": [
    "first_name, _, first_node = named_nodes[0]\n",
    "second_name, _, second_node = named_nodes[2]\n",
    "\n"
   ]
  },
  {
   "cell_type": "code",
   "execution_count": null,
   "metadata": {
    "colab": {
     "base_uri": "https://localhost:8080/",
     "height": 159
    },
    "executionInfo": {
     "elapsed": 35,
     "status": "error",
     "timestamp": 1747751004769,
     "user": {
      "displayName": "Jeanett Daga",
      "userId": "07863803926035571979"
     },
     "user_tz": 180
    },
    "id": "58vYOT8wa-03",
    "outputId": "b373ee3e-6a01-4f0a-c04f-670b0ec45e0a"
   },
   "outputs": [
    {
     "ename": "NameError",
     "evalue": "name 'intersect_with_node' is not defined",
     "output_type": "error",
     "traceback": [
      "\u001b[0;31m---------------------------------------------------------------------------\u001b[0m",
      "\u001b[0;31mNameError\u001b[0m                                 Traceback (most recent call last)",
      "\u001b[0;32m<ipython-input-57-a78ba9a375d7>\u001b[0m in \u001b[0;36m<cell line: 0>\u001b[0;34m()\u001b[0m\n\u001b[0;32m----> 1\u001b[0;31m \u001b[0meven_table_first\u001b[0m \u001b[0;34m=\u001b[0m \u001b[0mintersect_with_node\u001b[0m\u001b[0;34m(\u001b[0m\u001b[0mtableShotgun\u001b[0m\u001b[0;34m,\u001b[0m \u001b[0mfirst_node\u001b[0m\u001b[0;34m)\u001b[0m\u001b[0;34m.\u001b[0m\u001b[0msubsample\u001b[0m\u001b[0;34m(\u001b[0m\u001b[0mdepth\u001b[0m\u001b[0;34m)\u001b[0m\u001b[0;34m\u001b[0m\u001b[0;34m\u001b[0m\u001b[0m\n\u001b[0m\u001b[1;32m      2\u001b[0m \u001b[0meven_table_second\u001b[0m \u001b[0;34m=\u001b[0m \u001b[0mintersect_with_node\u001b[0m\u001b[0;34m(\u001b[0m\u001b[0mtableShotgun\u001b[0m\u001b[0;34m,\u001b[0m \u001b[0msecond_node\u001b[0m\u001b[0;34m)\u001b[0m\u001b[0;34m.\u001b[0m\u001b[0msubsample\u001b[0m\u001b[0;34m(\u001b[0m\u001b[0mdepth\u001b[0m\u001b[0;34m)\u001b[0m\u001b[0;34m\u001b[0m\u001b[0;34m\u001b[0m\u001b[0m\n",
      "\u001b[0;31mNameError\u001b[0m: name 'intersect_with_node' is not defined"
     ]
    }
   ],
   "source": [
    "even_table_first = intersect_with_node(tableShotgun, first_node).subsample(depth)\n",
    "even_table_second = intersect_with_node(tableShotgun, second_node).subsample(depth)"
   ]
  },
  {
   "cell_type": "code",
   "execution_count": null,
   "metadata": {
    "colab": {
     "base_uri": "https://localhost:8080/",
     "height": 176
    },
    "executionInfo": {
     "elapsed": 49,
     "status": "error",
     "timestamp": 1747751006557,
     "user": {
      "displayName": "Jeanett Daga",
      "userId": "07863803926035571979"
     },
     "user_tz": 180
    },
    "id": "gEVKgeNKpnRM",
    "outputId": "60534080-227c-4a0b-cfc0-ad309b2462ea"
   },
   "outputs": [
    {
     "ename": "NameError",
     "evalue": "name 'even_table_first' is not defined",
     "output_type": "error",
     "traceback": [
      "\u001b[0;31m---------------------------------------------------------------------------\u001b[0m",
      "\u001b[0;31mNameError\u001b[0m                                 Traceback (most recent call last)",
      "\u001b[0;32m<ipython-input-58-bc708bfb55f6>\u001b[0m in \u001b[0;36m<cell line: 0>\u001b[0;34m()\u001b[0m\n\u001b[0;32m----> 1\u001b[0;31m \u001b[0mcommon_ids\u001b[0m \u001b[0;34m=\u001b[0m \u001b[0mset\u001b[0m\u001b[0;34m(\u001b[0m\u001b[0meven_table_first\u001b[0m\u001b[0;34m.\u001b[0m\u001b[0mids\u001b[0m\u001b[0;34m(\u001b[0m\u001b[0;34m)\u001b[0m\u001b[0;34m)\u001b[0m \u001b[0;34m&\u001b[0m \u001b[0mset\u001b[0m\u001b[0;34m(\u001b[0m\u001b[0meven_table_second\u001b[0m\u001b[0;34m.\u001b[0m\u001b[0mids\u001b[0m\u001b[0;34m(\u001b[0m\u001b[0;34m)\u001b[0m\u001b[0;34m)\u001b[0m\u001b[0;34m\u001b[0m\u001b[0;34m\u001b[0m\u001b[0m\n\u001b[0m\u001b[1;32m      2\u001b[0m \u001b[0meven_table_first\u001b[0m \u001b[0;34m=\u001b[0m \u001b[0meven_table_first\u001b[0m\u001b[0;34m.\u001b[0m\u001b[0mfilter\u001b[0m\u001b[0;34m(\u001b[0m\u001b[0mcommon_ids\u001b[0m\u001b[0;34m)\u001b[0m\u001b[0;34m.\u001b[0m\u001b[0mremove_empty\u001b[0m\u001b[0;34m(\u001b[0m\u001b[0;34m)\u001b[0m\u001b[0;34m\u001b[0m\u001b[0;34m\u001b[0m\u001b[0m\n\u001b[1;32m      3\u001b[0m \u001b[0meven_table_second\u001b[0m \u001b[0;34m=\u001b[0m \u001b[0meven_table_second\u001b[0m\u001b[0;34m.\u001b[0m\u001b[0mfilter\u001b[0m\u001b[0;34m(\u001b[0m\u001b[0mcommon_ids\u001b[0m\u001b[0;34m)\u001b[0m\u001b[0;34m.\u001b[0m\u001b[0mremove_empty\u001b[0m\u001b[0;34m(\u001b[0m\u001b[0;34m)\u001b[0m\u001b[0;34m\u001b[0m\u001b[0;34m\u001b[0m\u001b[0m\n",
      "\u001b[0;31mNameError\u001b[0m: name 'even_table_first' is not defined"
     ]
    }
   ],
   "source": [
    "common_ids = set(even_table_first.ids()) & set(even_table_second.ids())\n",
    "even_table_first = even_table_first.filter(common_ids).remove_empty()\n",
    "even_table_second = even_table_second.filter(common_ids).remove_empty()"
   ]
  },
  {
   "cell_type": "code",
   "execution_count": null,
   "metadata": {
    "colab": {
     "base_uri": "https://localhost:8080/",
     "height": 159
    },
    "executionInfo": {
     "elapsed": 68,
     "status": "error",
     "timestamp": 1747751009036,
     "user": {
      "displayName": "Jeanett Daga",
      "userId": "07863803926035571979"
     },
     "user_tz": 180
    },
    "id": "hleaBnM5p3ad",
    "outputId": "4831cf4d-b4bb-411c-e5eb-a13c0e5c457a"
   },
   "outputs": [
    {
     "ename": "NameError",
     "evalue": "name 'even_table_first' is not defined",
     "output_type": "error",
     "traceback": [
      "\u001b[0;31m---------------------------------------------------------------------------\u001b[0m",
      "\u001b[0;31mNameError\u001b[0m                                 Traceback (most recent call last)",
      "\u001b[0;32m<ipython-input-59-2605422e7d16>\u001b[0m in \u001b[0;36m<cell line: 0>\u001b[0;34m()\u001b[0m\n\u001b[0;32m----> 1\u001b[0;31m \u001b[0mfirst_dm\u001b[0m \u001b[0;34m=\u001b[0m \u001b[0mbeta_diversity\u001b[0m\u001b[0;34m(\u001b[0m\u001b[0;34m'unweighted_unifrac'\u001b[0m\u001b[0;34m,\u001b[0m \u001b[0meven_table_first\u001b[0m\u001b[0;34m,\u001b[0m \u001b[0mtree\u001b[0m\u001b[0;34m=\u001b[0m\u001b[0mphylogeny\u001b[0m\u001b[0;34m)\u001b[0m\u001b[0;34m\u001b[0m\u001b[0;34m\u001b[0m\u001b[0m\n\u001b[0m\u001b[1;32m      2\u001b[0m \u001b[0msecond_dm\u001b[0m \u001b[0;34m=\u001b[0m \u001b[0mbeta_diversity\u001b[0m\u001b[0;34m(\u001b[0m\u001b[0;34m'unweighted_unifrac'\u001b[0m\u001b[0;34m,\u001b[0m \u001b[0meven_table_second\u001b[0m\u001b[0;34m,\u001b[0m \u001b[0mtree\u001b[0m\u001b[0;34m=\u001b[0m\u001b[0mphylogeny\u001b[0m\u001b[0;34m)\u001b[0m\u001b[0;34m\u001b[0m\u001b[0;34m\u001b[0m\u001b[0m\n",
      "\u001b[0;31mNameError\u001b[0m: name 'even_table_first' is not defined"
     ]
    }
   ],
   "source": [
    "first_dm = beta_diversity('unweighted_unifrac', even_table_first, tree=phylogeny)\n",
    "second_dm = beta_diversity('unweighted_unifrac', even_table_second, tree=phylogeny)"
   ]
  },
  {
   "cell_type": "code",
   "execution_count": null,
   "metadata": {
    "colab": {
     "base_uri": "https://localhost:8080/",
     "height": 159
    },
    "executionInfo": {
     "elapsed": 28,
     "status": "error",
     "timestamp": 1747751010680,
     "user": {
      "displayName": "Jeanett Daga",
      "userId": "07863803926035571979"
     },
     "user_tz": 180
    },
    "id": "HKPG6vGqqvIE",
    "outputId": "11ac18ae-8f8a-417c-fbb5-af79d67c6bea"
   },
   "outputs": [
    {
     "ename": "NameError",
     "evalue": "name 'first_dm' is not defined",
     "output_type": "error",
     "traceback": [
      "\u001b[0;31m---------------------------------------------------------------------------\u001b[0m",
      "\u001b[0;31mNameError\u001b[0m                                 Traceback (most recent call last)",
      "\u001b[0;32m<ipython-input-60-8d2775336af6>\u001b[0m in \u001b[0;36m<cell line: 0>\u001b[0;34m()\u001b[0m\n\u001b[0;32m----> 1\u001b[0;31m \u001b[0mfirst_pc\u001b[0m \u001b[0;34m=\u001b[0m \u001b[0mpcoa\u001b[0m\u001b[0;34m(\u001b[0m\u001b[0mfirst_dm\u001b[0m\u001b[0;34m,\u001b[0m \u001b[0mnumber_of_dimensions\u001b[0m\u001b[0;34m=\u001b[0m\u001b[0;36m10\u001b[0m\u001b[0;34m)\u001b[0m\u001b[0;34m\u001b[0m\u001b[0;34m\u001b[0m\u001b[0m\n\u001b[0m\u001b[1;32m      2\u001b[0m \u001b[0msecond_pc\u001b[0m \u001b[0;34m=\u001b[0m \u001b[0mpcoa\u001b[0m\u001b[0;34m(\u001b[0m\u001b[0msecond_dm\u001b[0m\u001b[0;34m,\u001b[0m \u001b[0mnumber_of_dimensions\u001b[0m\u001b[0;34m=\u001b[0m\u001b[0;36m10\u001b[0m\u001b[0;34m)\u001b[0m\u001b[0;34m\u001b[0m\u001b[0;34m\u001b[0m\u001b[0m\n",
      "\u001b[0;31mNameError\u001b[0m: name 'first_dm' is not defined"
     ]
    }
   ],
   "source": [
    "first_pc = pcoa(first_dm, number_of_dimensions=10)\n",
    "second_pc = pcoa(second_dm, number_of_dimensions=10)"
   ]
  },
  {
   "cell_type": "markdown",
   "metadata": {
    "id": "zuKSfRoGVLvl"
   },
   "source": [
    "Now we can visualize these clade specific beta diversity calculations!"
   ]
  },
  {
   "cell_type": "code",
   "execution_count": null,
   "metadata": {
    "colab": {
     "base_uri": "https://localhost:8080/",
     "height": 141
    },
    "executionInfo": {
     "elapsed": 27,
     "status": "error",
     "timestamp": 1747751013453,
     "user": {
      "displayName": "Jeanett Daga",
      "userId": "07863803926035571979"
     },
     "user_tz": 180
    },
    "id": "HkaM_3_BqDum",
    "outputId": "82e5029f-7b97-4a92-c0a2-ac07932d97ff"
   },
   "outputs": [
    {
     "ename": "NameError",
     "evalue": "name 'first_pc' is not defined",
     "output_type": "error",
     "traceback": [
      "\u001b[0;31m---------------------------------------------------------------------------\u001b[0m",
      "\u001b[0;31mNameError\u001b[0m                                 Traceback (most recent call last)",
      "\u001b[0;32m<ipython-input-61-1758112c93d5>\u001b[0m in \u001b[0;36m<cell line: 0>\u001b[0;34m()\u001b[0m\n\u001b[0;32m----> 1\u001b[0;31m \u001b[0mpcoa_plot\u001b[0m\u001b[0;34m(\u001b[0m\u001b[0mfirst_pc\u001b[0m\u001b[0;34m,\u001b[0m \u001b[0mmetadata\u001b[0m\u001b[0;34m,\u001b[0m \u001b[0;34m'empo_1'\u001b[0m\u001b[0;34m,\u001b[0m \u001b[0mfirst_name\u001b[0m\u001b[0;34m)\u001b[0m\u001b[0;34m\u001b[0m\u001b[0;34m\u001b[0m\u001b[0m\n\u001b[0m",
      "\u001b[0;31mNameError\u001b[0m: name 'first_pc' is not defined"
     ]
    }
   ],
   "source": [
    "pcoa_plot(first_pc, metadata, 'empo_1', first_name)"
   ]
  },
  {
   "cell_type": "code",
   "execution_count": null,
   "metadata": {
    "colab": {
     "base_uri": "https://localhost:8080/",
     "height": 141
    },
    "executionInfo": {
     "elapsed": 21,
     "status": "error",
     "timestamp": 1747751016791,
     "user": {
      "displayName": "Jeanett Daga",
      "userId": "07863803926035571979"
     },
     "user_tz": 180
    },
    "id": "k4bvrXzqUk5d",
    "outputId": "ca060f8f-cc86-467e-db5d-93effddf10e4"
   },
   "outputs": [
    {
     "ename": "NameError",
     "evalue": "name 'second_pc' is not defined",
     "output_type": "error",
     "traceback": [
      "\u001b[0;31m---------------------------------------------------------------------------\u001b[0m",
      "\u001b[0;31mNameError\u001b[0m                                 Traceback (most recent call last)",
      "\u001b[0;32m<ipython-input-62-d7d4e526ec1f>\u001b[0m in \u001b[0;36m<cell line: 0>\u001b[0;34m()\u001b[0m\n\u001b[0;32m----> 1\u001b[0;31m \u001b[0mpcoa_plot\u001b[0m\u001b[0;34m(\u001b[0m\u001b[0msecond_pc\u001b[0m\u001b[0;34m,\u001b[0m \u001b[0mmetadata\u001b[0m\u001b[0;34m,\u001b[0m \u001b[0;34m'empo_1'\u001b[0m\u001b[0;34m,\u001b[0m \u001b[0msecond_name\u001b[0m\u001b[0;34m)\u001b[0m\u001b[0;34m\u001b[0m\u001b[0;34m\u001b[0m\u001b[0m\n\u001b[0m",
      "\u001b[0;31mNameError\u001b[0m: name 'second_pc' is not defined"
     ]
    }
   ],
   "source": [
    "pcoa_plot(second_pc, metadata, 'empo_1', second_name)"
   ]
  },
  {
   "cell_type": "markdown",
   "metadata": {
    "id": "jHXx1uoOPHiB"
   },
   "source": [
    "### Mantel test"
   ]
  },
  {
   "cell_type": "markdown",
   "metadata": {
    "id": "O5cBa12mVgaA"
   },
   "source": [
    "We additionally can compute the correlation of the sample-sample relationships in both phyla using a [Mantel](https://pubmed.ncbi.nlm.nih.gov/6018555/) test. Mantel, like PERMANOVA, is non-parametric and by default uses 999 repetitions to estimate a p-value.\n",
    "\n",
    "In the next few cells, we will compare Proteobacteria to Bacteroidota, Proteobacteria to the full tree, and Bacteroidota to the full tree. We then will apply PERMANOVA to these clade specific distance matrices.\n",
    "\n",
    "Interestingly, we observe a relatively low correlation between these two phyla, and it seems the sample-sample relationships within Bacteroidota better recapitulate the full distance matrix. This observation is further supported by the relative difference in test statistics from PERMANOVA, where the statistic is larger between host and non-host samples."
   ]
  },
  {
   "cell_type": "code",
   "execution_count": null,
   "metadata": {
    "id": "iCZ00L4oPHiC"
   },
   "outputs": [],
   "source": [
    "from skbio.stats.distance import mantel"
   ]
  },
  {
   "cell_type": "code",
   "execution_count": null,
   "metadata": {
    "colab": {
     "base_uri": "https://localhost:8080/",
     "height": 159
    },
    "executionInfo": {
     "elapsed": 52,
     "status": "error",
     "timestamp": 1747751025678,
     "user": {
      "displayName": "Jeanett Daga",
      "userId": "07863803926035571979"
     },
     "user_tz": 180
    },
    "id": "ymJx8PxsrKMb",
    "outputId": "e40ef4d6-bdef-42b0-e2cd-362d2a7f3e77"
   },
   "outputs": [
    {
     "ename": "NameError",
     "evalue": "name 'first_dm' is not defined",
     "output_type": "error",
     "traceback": [
      "\u001b[0;31m---------------------------------------------------------------------------\u001b[0m",
      "\u001b[0;31mNameError\u001b[0m                                 Traceback (most recent call last)",
      "\u001b[0;32m<ipython-input-64-b2ad2ee99734>\u001b[0m in \u001b[0;36m<cell line: 0>\u001b[0;34m()\u001b[0m\n\u001b[0;32m----> 1\u001b[0;31m \u001b[0mr\u001b[0m\u001b[0;34m,\u001b[0m \u001b[0mp\u001b[0m\u001b[0;34m,\u001b[0m \u001b[0m_\u001b[0m \u001b[0;34m=\u001b[0m \u001b[0mmantel\u001b[0m\u001b[0;34m(\u001b[0m\u001b[0mfirst_dm\u001b[0m\u001b[0;34m,\u001b[0m \u001b[0msecond_dm\u001b[0m\u001b[0;34m)\u001b[0m\u001b[0;34m\u001b[0m\u001b[0;34m\u001b[0m\u001b[0m\n\u001b[0m\u001b[1;32m      2\u001b[0m \u001b[0mprint\u001b[0m\u001b[0;34m(\u001b[0m\u001b[0;34mf\"Mantel r={r:0.2} p={p:0.2}\"\u001b[0m\u001b[0;34m)\u001b[0m\u001b[0;34m\u001b[0m\u001b[0;34m\u001b[0m\u001b[0m\n",
      "\u001b[0;31mNameError\u001b[0m: name 'first_dm' is not defined"
     ]
    }
   ],
   "source": [
    "r, p, _ = mantel(first_dm, second_dm)\n",
    "print(f\"Mantel r={r:0.2} p={p:0.2}\")"
   ]
  },
  {
   "cell_type": "code",
   "execution_count": null,
   "metadata": {
    "colab": {
     "base_uri": "https://localhost:8080/"
    },
    "executionInfo": {
     "elapsed": 11,
     "status": "ok",
     "timestamp": 1747651477881,
     "user": {
      "displayName": "Nelly Selem",
      "userId": "14248814399792380233"
     },
     "user_tz": 360
    },
    "id": "JtTeQYdExdC9",
    "outputId": "d1c1a3c5-077e-4611-81b0-04af00fe33b8"
   },
   "outputs": [
    {
     "name": "stdout",
     "output_type": "stream",
     "text": [
      "Mantel r=0.75 p=0.001\n"
     ]
    }
   ],
   "source": [
    "r, p, _ = mantel(full_dm, first_dm, strict=False)\n",
    "print(f\"Mantel r={r:0.2} p={p:0.2}\")"
   ]
  },
  {
   "cell_type": "code",
   "execution_count": null,
   "metadata": {
    "colab": {
     "base_uri": "https://localhost:8080/"
    },
    "executionInfo": {
     "elapsed": 20,
     "status": "ok",
     "timestamp": 1747651479567,
     "user": {
      "displayName": "Nelly Selem",
      "userId": "14248814399792380233"
     },
     "user_tz": 360
    },
    "id": "nPs5MeHFxw25",
    "outputId": "2fead595-4dcf-44ef-b120-ccd37f6e73b0"
   },
   "outputs": [
    {
     "name": "stdout",
     "output_type": "stream",
     "text": [
      "Mantel r=0.77 p=0.001\n"
     ]
    }
   ],
   "source": [
    "r, p, _ = mantel(full_dm, second_dm, strict=False)\n",
    "print(f\"Mantel r={r:0.2} p={p:0.2}\")"
   ]
  },
  {
   "cell_type": "code",
   "execution_count": null,
   "metadata": {
    "colab": {
     "base_uri": "https://localhost:8080/",
     "height": 304
    },
    "executionInfo": {
     "elapsed": 22,
     "status": "ok",
     "timestamp": 1747651481782,
     "user": {
      "displayName": "Nelly Selem",
      "userId": "14248814399792380233"
     },
     "user_tz": 360
    },
    "id": "kFo4Wx-jxy0J",
    "outputId": "f1aad3a9-5277-4c80-d342-9524b2b6e561"
   },
   "outputs": [
    {
     "data": {
      "text/html": [
       "<div>\n",
       "<style scoped>\n",
       "    .dataframe tbody tr th:only-of-type {\n",
       "        vertical-align: middle;\n",
       "    }\n",
       "\n",
       "    .dataframe tbody tr th {\n",
       "        vertical-align: top;\n",
       "    }\n",
       "\n",
       "    .dataframe thead th {\n",
       "        text-align: right;\n",
       "    }\n",
       "</style>\n",
       "<table border=\"1\" class=\"dataframe\">\n",
       "  <thead>\n",
       "    <tr style=\"text-align: right;\">\n",
       "      <th></th>\n",
       "      <th>PERMANOVA results</th>\n",
       "    </tr>\n",
       "  </thead>\n",
       "  <tbody>\n",
       "    <tr>\n",
       "      <th>method name</th>\n",
       "      <td>PERMANOVA</td>\n",
       "    </tr>\n",
       "    <tr>\n",
       "      <th>test statistic name</th>\n",
       "      <td>pseudo-F</td>\n",
       "    </tr>\n",
       "    <tr>\n",
       "      <th>sample size</th>\n",
       "      <td>56</td>\n",
       "    </tr>\n",
       "    <tr>\n",
       "      <th>number of groups</th>\n",
       "      <td>2</td>\n",
       "    </tr>\n",
       "    <tr>\n",
       "      <th>test statistic</th>\n",
       "      <td>8.822204</td>\n",
       "    </tr>\n",
       "    <tr>\n",
       "      <th>p-value</th>\n",
       "      <td>0.001</td>\n",
       "    </tr>\n",
       "    <tr>\n",
       "      <th>number of permutations</th>\n",
       "      <td>999</td>\n",
       "    </tr>\n",
       "  </tbody>\n",
       "</table>\n",
       "</div><br><label><b>dtype:</b> object</label>"
      ],
      "text/plain": [
       "method name               PERMANOVA\n",
       "test statistic name        pseudo-F\n",
       "sample size                      56\n",
       "number of groups                  2\n",
       "test statistic             8.822204\n",
       "p-value                       0.001\n",
       "number of permutations          999\n",
       "Name: PERMANOVA results, dtype: object"
      ]
     },
     "execution_count": 165,
     "metadata": {},
     "output_type": "execute_result"
    }
   ],
   "source": [
    "permanova(first_dm, empo_1)"
   ]
  },
  {
   "cell_type": "code",
   "execution_count": null,
   "metadata": {
    "colab": {
     "base_uri": "https://localhost:8080/",
     "height": 304
    },
    "executionInfo": {
     "elapsed": 30,
     "status": "ok",
     "timestamp": 1747651484383,
     "user": {
      "displayName": "Nelly Selem",
      "userId": "14248814399792380233"
     },
     "user_tz": 360
    },
    "id": "bdK2VESdyjSx",
    "outputId": "8bb6ff20-333d-43fe-a839-c3227508b063"
   },
   "outputs": [
    {
     "data": {
      "text/html": [
       "<div>\n",
       "<style scoped>\n",
       "    .dataframe tbody tr th:only-of-type {\n",
       "        vertical-align: middle;\n",
       "    }\n",
       "\n",
       "    .dataframe tbody tr th {\n",
       "        vertical-align: top;\n",
       "    }\n",
       "\n",
       "    .dataframe thead th {\n",
       "        text-align: right;\n",
       "    }\n",
       "</style>\n",
       "<table border=\"1\" class=\"dataframe\">\n",
       "  <thead>\n",
       "    <tr style=\"text-align: right;\">\n",
       "      <th></th>\n",
       "      <th>PERMANOVA results</th>\n",
       "    </tr>\n",
       "  </thead>\n",
       "  <tbody>\n",
       "    <tr>\n",
       "      <th>method name</th>\n",
       "      <td>PERMANOVA</td>\n",
       "    </tr>\n",
       "    <tr>\n",
       "      <th>test statistic name</th>\n",
       "      <td>pseudo-F</td>\n",
       "    </tr>\n",
       "    <tr>\n",
       "      <th>sample size</th>\n",
       "      <td>56</td>\n",
       "    </tr>\n",
       "    <tr>\n",
       "      <th>number of groups</th>\n",
       "      <td>2</td>\n",
       "    </tr>\n",
       "    <tr>\n",
       "      <th>test statistic</th>\n",
       "      <td>7.960979</td>\n",
       "    </tr>\n",
       "    <tr>\n",
       "      <th>p-value</th>\n",
       "      <td>0.001</td>\n",
       "    </tr>\n",
       "    <tr>\n",
       "      <th>number of permutations</th>\n",
       "      <td>999</td>\n",
       "    </tr>\n",
       "  </tbody>\n",
       "</table>\n",
       "</div><br><label><b>dtype:</b> object</label>"
      ],
      "text/plain": [
       "method name               PERMANOVA\n",
       "test statistic name        pseudo-F\n",
       "sample size                      56\n",
       "number of groups                  2\n",
       "test statistic             7.960979\n",
       "p-value                       0.001\n",
       "number of permutations          999\n",
       "Name: PERMANOVA results, dtype: object"
      ]
     },
     "execution_count": 166,
     "metadata": {},
     "output_type": "execute_result"
    }
   ],
   "source": [
    "permanova(second_dm, empo_1)"
   ]
  },
  {
   "cell_type": "markdown",
   "metadata": {
    "id": "WqsJOmaCPHiD"
   },
   "source": [
    "### Proscrustes disparity"
   ]
  },
  {
   "cell_type": "markdown",
   "metadata": {
    "id": "TloK80-CUfXM"
   },
   "source": [
    "And last, we will compute the [Procrustes disparity](https://en.wikipedia.org/wiki/Procrustes_analysis), a measure of fit, between the clade specific ordinations.\n",
    "\n",
    "Procrustes can also be permuted to estimate a p-value, however that is not directly supported at this time within scikit-bio. The procedure is relatively simple though: iterate N times, randomly shuffle the IDs of one of the matrices, recomptue Procrustes. This too is slated for inclusion directly in scikit-bio. And last, the EMPeror library (noted above) can plot Procrustes transforms linking the samples in both ordinations visually."
   ]
  },
  {
   "cell_type": "code",
   "execution_count": null,
   "metadata": {
    "id": "jRpyad44UE_o"
   },
   "outputs": [],
   "source": [
    "from scipy.spatial import procrustes"
   ]
  },
  {
   "cell_type": "code",
   "execution_count": null,
   "metadata": {
    "id": "Z8X3pRZGUF57"
   },
   "outputs": [],
   "source": [
    "mtx1, mtx2, disparity = procrustes(\n",
    "    first_pc.samples[['PC1', 'PC2']],\n",
    "    second_pc.samples[['PC1', 'PC2']]\n",
    ")\n",
    "print(disparity)"
   ]
  }
 ],
 "metadata": {
  "colab": {
   "provenance": [
    {
     "file_id": "https://github.com/scikit-bio/scikit-bio-tutorials/blob/main/05-community-diversity/05-community-diversity.ipynb",
     "timestamp": 1720809459671
    }
   ]
  },
  "kernelspec": {
   "display_name": "scikit-bio",
   "language": "python",
   "name": "python3"
  },
  "language_info": {
   "codemirror_mode": {
    "name": "ipython",
    "version": 3
   },
   "file_extension": ".py",
   "mimetype": "text/x-python",
   "name": "python",
   "nbconvert_exporter": "python",
   "pygments_lexer": "ipython3",
   "version": "3.13.3"
  }
 },
 "nbformat": 4,
 "nbformat_minor": 0
}
